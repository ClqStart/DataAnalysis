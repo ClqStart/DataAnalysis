{
 "cells": [
  {
   "cell_type": "code",
   "execution_count": 2,
   "metadata": {},
   "outputs": [
    {
     "data": {
      "text/plain": [
       "datetime.datetime(2018, 1, 22, 8, 29, 14, 406635)"
      ]
     },
     "execution_count": 2,
     "metadata": {},
     "output_type": "execute_result"
    }
   ],
   "source": [
    "import datetime\n",
    "now = datetime.datetime.now()\n",
    "now"
   ]
  },
  {
   "cell_type": "code",
   "execution_count": 3,
   "metadata": {},
   "outputs": [
    {
     "data": {
      "text/plain": [
       "(22, 1, 2018)"
      ]
     },
     "execution_count": 3,
     "metadata": {},
     "output_type": "execute_result"
    }
   ],
   "source": [
    "now.day, now.month, now.year"
   ]
  },
  {
   "cell_type": "code",
   "execution_count": 4,
   "metadata": {},
   "outputs": [
    {
     "data": {
      "text/plain": [
       "datetime.datetime(2018, 1, 22, 8, 32, 35, 584105)"
      ]
     },
     "execution_count": 4,
     "metadata": {},
     "output_type": "execute_result"
    }
   ],
   "source": [
    "datetime.datetime.today()"
   ]
  },
  {
   "cell_type": "code",
   "execution_count": 5,
   "metadata": {},
   "outputs": [
    {
     "data": {
      "text/plain": [
       "Timestamp('2018-01-22 08:33:30.600695')"
      ]
     },
     "execution_count": 5,
     "metadata": {},
     "output_type": "execute_result"
    }
   ],
   "source": [
    "import numpy as np\n",
    "import pandas as pd\n",
    "now = pd.Timestamp.now()\n",
    "now"
   ]
  },
  {
   "cell_type": "code",
   "execution_count": 6,
   "metadata": {},
   "outputs": [
    {
     "data": {
      "text/plain": [
       "(2018, 1, 22)"
      ]
     },
     "execution_count": 6,
     "metadata": {},
     "output_type": "execute_result"
    }
   ],
   "source": [
    "now.year, now.month, now.day"
   ]
  },
  {
   "cell_type": "code",
   "execution_count": 8,
   "metadata": {},
   "outputs": [
    {
     "data": {
      "text/plain": [
       "False"
      ]
     },
     "execution_count": 8,
     "metadata": {},
     "output_type": "execute_result"
    }
   ],
   "source": [
    "import pytz\n",
    "brussels_tz = pytz.timezone('Europe/Brussels')\n",
    "shanghai_tz = pytz.timezone('Asia/Shanghai')\n",
    "now_brussels = datetime.datetime.now(tz=brussels_tz)\n",
    "now_shanghai = now_brussels.replace(tzinfo=shanghai_tz)\n",
    "now_shanghai == now_brussels"
   ]
  },
  {
   "cell_type": "code",
   "execution_count": 9,
   "metadata": {},
   "outputs": [
    {
     "data": {
      "text/plain": [
       "datetime.datetime(2018, 1, 22, 1, 43, 14, 689601, tzinfo=<DstTzInfo 'Asia/Shanghai' LMT+8:06:00 STD>)"
      ]
     },
     "execution_count": 9,
     "metadata": {},
     "output_type": "execute_result"
    }
   ],
   "source": [
    "now_shanghai"
   ]
  },
  {
   "cell_type": "code",
   "execution_count": 10,
   "metadata": {},
   "outputs": [
    {
     "data": {
      "text/plain": [
       "datetime.datetime(2018, 1, 22, 1, 43, 14, 689601, tzinfo=<DstTzInfo 'Europe/Brussels' CET+1:00:00 STD>)"
      ]
     },
     "execution_count": 10,
     "metadata": {},
     "output_type": "execute_result"
    }
   ],
   "source": [
    "now_brussels"
   ]
  },
  {
   "cell_type": "code",
   "execution_count": 11,
   "metadata": {},
   "outputs": [
    {
     "data": {
      "text/plain": [
       "Timestamp('2018-01-22 08:56:38.993591+0800', tz='Asia/Shanghai')"
      ]
     },
     "execution_count": 11,
     "metadata": {},
     "output_type": "execute_result"
    }
   ],
   "source": [
    "now_shanghai = pd.Timestamp.now(tz=\"Asia/Shanghai\")\n",
    "now_shanghai"
   ]
  },
  {
   "cell_type": "code",
   "execution_count": 12,
   "metadata": {},
   "outputs": [
    {
     "data": {
      "text/plain": [
       "Timestamp('2018-01-22 01:56:38.993591+0100', tz='Europe/Brussels')"
      ]
     },
     "execution_count": 12,
     "metadata": {},
     "output_type": "execute_result"
    }
   ],
   "source": [
    "now_brussels = now_shanghai.tz_convert(\"Europe/Brussels\")\n",
    "now_brussels"
   ]
  },
  {
   "cell_type": "code",
   "execution_count": 13,
   "metadata": {},
   "outputs": [
    {
     "data": {
      "text/plain": [
       "True"
      ]
     },
     "execution_count": 13,
     "metadata": {},
     "output_type": "execute_result"
    }
   ],
   "source": [
    "now_shanghai == now_brussels"
   ]
  },
  {
   "cell_type": "code",
   "execution_count": 17,
   "metadata": {},
   "outputs": [
    {
     "data": {
      "text/plain": [
       "Timestamp('1997-07-01 00:00:00')"
      ]
     },
     "execution_count": 17,
     "metadata": {},
     "output_type": "execute_result"
    }
   ],
   "source": [
    "pd.Timestamp(datetime.datetime(1997, 7, 1))"
   ]
  },
  {
   "cell_type": "code",
   "execution_count": 15,
   "metadata": {},
   "outputs": [
    {
     "data": {
      "text/plain": [
       "Timestamp('1997-07-01 00:00:00')"
      ]
     },
     "execution_count": 15,
     "metadata": {},
     "output_type": "execute_result"
    }
   ],
   "source": [
    "pd.Timestamp(\"1997-7-1\")"
   ]
  },
  {
   "cell_type": "code",
   "execution_count": 16,
   "metadata": {},
   "outputs": [
    {
     "data": {
      "text/plain": [
       "Timestamp('1997-07-01 00:00:00')"
      ]
     },
     "execution_count": 16,
     "metadata": {},
     "output_type": "execute_result"
    }
   ],
   "source": [
    "pd.Timestamp(1997, 7, 1)"
   ]
  },
  {
   "cell_type": "code",
   "execution_count": 18,
   "metadata": {},
   "outputs": [
    {
     "data": {
      "text/plain": [
       "Timestamp('1677-09-21 00:12:43.145225')"
      ]
     },
     "execution_count": 18,
     "metadata": {},
     "output_type": "execute_result"
    }
   ],
   "source": [
    "pd.Timestamp.min"
   ]
  },
  {
   "cell_type": "code",
   "execution_count": 19,
   "metadata": {},
   "outputs": [
    {
     "data": {
      "text/plain": [
       "Timestamp('2262-04-11 23:47:16.854775807')"
      ]
     },
     "execution_count": 19,
     "metadata": {},
     "output_type": "execute_result"
    }
   ],
   "source": [
    "pd.Timestamp.max"
   ]
  },
  {
   "cell_type": "code",
   "execution_count": 20,
   "metadata": {
    "collapsed": true
   },
   "outputs": [],
   "source": [
    "start = pd.Timestamp(\"1997-7-1\", tz='Asia/Shanghai')"
   ]
  },
  {
   "cell_type": "code",
   "execution_count": 22,
   "metadata": {},
   "outputs": [
    {
     "data": {
      "text/plain": [
       "Timedelta('7510 days 08:56:38.993591')"
      ]
     },
     "execution_count": 22,
     "metadata": {},
     "output_type": "execute_result"
    }
   ],
   "source": [
    "delta = now_shanghai - start\n",
    "delta"
   ]
  },
  {
   "cell_type": "code",
   "execution_count": 23,
   "metadata": {},
   "outputs": [
    {
     "data": {
      "text/plain": [
       "Timestamp('2038-08-15 17:53:17.987182+0800', tz='Asia/Shanghai')"
      ]
     },
     "execution_count": 23,
     "metadata": {},
     "output_type": "execute_result"
    }
   ],
   "source": [
    "future = now_shanghai + delta\n",
    "future"
   ]
  },
  {
   "cell_type": "code",
   "execution_count": 24,
   "metadata": {},
   "outputs": [
    {
     "data": {
      "text/plain": [
       "Timedelta('3 days 04:05:06')"
      ]
     },
     "execution_count": 24,
     "metadata": {},
     "output_type": "execute_result"
    }
   ],
   "source": [
    "pd.Timedelta(days=3, hours=4, minutes=5, seconds=6)"
   ]
  },
  {
   "cell_type": "code",
   "execution_count": 25,
   "metadata": {},
   "outputs": [
    {
     "data": {
      "text/plain": [
       "Timedelta('1 days 10:17:36')"
      ]
     },
     "execution_count": 25,
     "metadata": {},
     "output_type": "execute_result"
    }
   ],
   "source": [
    "pd.Timedelta(seconds=123456)"
   ]
  },
  {
   "cell_type": "code",
   "execution_count": 26,
   "metadata": {},
   "outputs": [
    {
     "data": {
      "text/plain": [
       "Period('2018-01-22/2018-01-28', 'W-SUN')"
      ]
     },
     "execution_count": 26,
     "metadata": {},
     "output_type": "execute_result"
    }
   ],
   "source": [
    "now_week = pd.Period.now(freq=\"W\")\n",
    "now_week"
   ]
  },
  {
   "cell_type": "code",
   "execution_count": 27,
   "metadata": {},
   "outputs": [
    {
     "data": {
      "text/plain": [
       "dict_keys(['Q-NOV', 'S', 'W', 'M', 'Q-FEB', 'Q-AUG', 'C', 'A-NOV', 'A-JUN', 'W-WED', 'Q-SEP', 'T', 'L', 'W-MON', 'U', 'Q-OCT', 'D', 'A-MAY', 'Q-JUL', 'Q-JUN', 'Q', 'W-THU', 'A-SEP', 'A-JUL', 'W-TUE', 'A-JAN', 'A-DEC', 'A-APR', 'Q-DEC', 'A-MAR', 'Q-APR', 'W-SAT', 'W-FRI', 'N', 'Q-JAN', 'B', 'H', 'Q-MAY', 'A-AUG', 'A-OCT', 'W-SUN', 'Q-MAR', 'A', 'A-FEB'])"
      ]
     },
     "execution_count": 27,
     "metadata": {},
     "output_type": "execute_result"
    }
   ],
   "source": [
    "from pandas.tseries import frequencies\n",
    "frequencies._period_code_map.keys()"
   ]
  },
  {
   "cell_type": "code",
   "execution_count": 28,
   "metadata": {},
   "outputs": [
    {
     "data": {
      "text/plain": [
       "(Timestamp('2018-01-22 00:00:00'), Timestamp('2018-01-28 23:59:59.999999999'))"
      ]
     },
     "execution_count": 28,
     "metadata": {},
     "output_type": "execute_result"
    }
   ],
   "source": [
    "now_week.start_time, now_week.end_time"
   ]
  },
  {
   "cell_type": "code",
   "execution_count": 29,
   "metadata": {},
   "outputs": [
    {
     "data": {
      "text/plain": [
       "Period('1997-07', 'M')"
      ]
     },
     "execution_count": 29,
     "metadata": {},
     "output_type": "execute_result"
    }
   ],
   "source": [
    "pd.Period(\"1997-07\")"
   ]
  },
  {
   "cell_type": "code",
   "execution_count": 30,
   "metadata": {},
   "outputs": [
    {
     "data": {
      "text/plain": [
       "Period('1997-07-01', 'D')"
      ]
     },
     "execution_count": 30,
     "metadata": {},
     "output_type": "execute_result"
    }
   ],
   "source": [
    "pd.Period(\"1997-07\", freq=\"D\")"
   ]
  },
  {
   "cell_type": "code",
   "execution_count": 31,
   "metadata": {},
   "outputs": [
    {
     "data": {
      "text/plain": [
       "Period('1997-06-30/1997-07-06', 'W-SUN')"
      ]
     },
     "execution_count": 31,
     "metadata": {},
     "output_type": "execute_result"
    }
   ],
   "source": [
    "t1 = pd.Timestamp(\"1997-07-01\")\n",
    "t1.to_period(\"W\")"
   ]
  },
  {
   "cell_type": "code",
   "execution_count": 32,
   "metadata": {},
   "outputs": [
    {
     "data": {
      "text/plain": [
       "(2018, 1, 22)"
      ]
     },
     "execution_count": 32,
     "metadata": {},
     "output_type": "execute_result"
    }
   ],
   "source": [
    "now = pd.Timestamp.now()\n",
    "now.year, now.month, now.day"
   ]
  },
  {
   "cell_type": "code",
   "execution_count": 33,
   "metadata": {},
   "outputs": [
    {
     "data": {
      "text/plain": [
       "22"
      ]
     },
     "execution_count": 33,
     "metadata": {},
     "output_type": "execute_result"
    }
   ],
   "source": [
    "now.dayofyear"
   ]
  },
  {
   "cell_type": "code",
   "execution_count": 34,
   "metadata": {},
   "outputs": [
    {
     "data": {
      "text/plain": [
       "0"
      ]
     },
     "execution_count": 34,
     "metadata": {},
     "output_type": "execute_result"
    }
   ],
   "source": [
    "now.dayofweek"
   ]
  },
  {
   "cell_type": "code",
   "execution_count": 35,
   "metadata": {},
   "outputs": [
    {
     "data": {
      "text/plain": [
       "11"
      ]
     },
     "execution_count": 35,
     "metadata": {},
     "output_type": "execute_result"
    }
   ],
   "source": [
    "now.hour"
   ]
  },
  {
   "cell_type": "code",
   "execution_count": 36,
   "metadata": {},
   "outputs": [
    {
     "data": {
      "text/plain": [
       "datetime.datetime(1997, 7, 1, 0, 0)"
      ]
     },
     "execution_count": 36,
     "metadata": {},
     "output_type": "execute_result"
    }
   ],
   "source": [
    "datetime.datetime(year=1997, month=7, day=1)"
   ]
  },
  {
   "cell_type": "code",
   "execution_count": 37,
   "metadata": {},
   "outputs": [
    {
     "data": {
      "text/plain": [
       "datetime.datetime(1997, 7, 1, 0, 0)"
      ]
     },
     "execution_count": 37,
     "metadata": {},
     "output_type": "execute_result"
    }
   ],
   "source": [
    "from dateutil import parser\n",
    "date = parser.parse(\"1st of July, 1997\")\n",
    "date"
   ]
  },
  {
   "cell_type": "code",
   "execution_count": 38,
   "metadata": {},
   "outputs": [
    {
     "data": {
      "text/plain": [
       "datetime.datetime(1997, 7, 1, 0, 0)"
      ]
     },
     "execution_count": 38,
     "metadata": {},
     "output_type": "execute_result"
    }
   ],
   "source": [
    "parser.parse(\"1997.07.01\")"
   ]
  },
  {
   "cell_type": "code",
   "execution_count": 39,
   "metadata": {},
   "outputs": [
    {
     "data": {
      "text/plain": [
       "'Tuesday'"
      ]
     },
     "execution_count": 39,
     "metadata": {},
     "output_type": "execute_result"
    }
   ],
   "source": [
    "date.strftime('%A')"
   ]
  },
  {
   "cell_type": "code",
   "execution_count": 40,
   "metadata": {},
   "outputs": [
    {
     "data": {
      "text/plain": [
       "array(datetime.date(1997, 7, 1), dtype='datetime64[D]')"
      ]
     },
     "execution_count": 40,
     "metadata": {},
     "output_type": "execute_result"
    }
   ],
   "source": [
    "date_np = np.array('1997-07-01', dtype=np.datetime64)\n",
    "date_np"
   ]
  },
  {
   "cell_type": "code",
   "execution_count": 41,
   "metadata": {},
   "outputs": [
    {
     "data": {
      "text/plain": [
       "(numpy.datetime64('1997-07'), dtype('<M8[M]'))"
      ]
     },
     "execution_count": 41,
     "metadata": {},
     "output_type": "execute_result"
    }
   ],
   "source": [
    "m = np.datetime64(\"1997-07\")\n",
    "m, m.dtype"
   ]
  },
  {
   "cell_type": "code",
   "execution_count": 42,
   "metadata": {},
   "outputs": [
    {
     "data": {
      "text/plain": [
       "(numpy.datetime64('1997-07-01T19:19:00'), dtype('<M8[s]'))"
      ]
     },
     "execution_count": 42,
     "metadata": {},
     "output_type": "execute_result"
    }
   ],
   "source": [
    "n = np.datetime64(\"1997-07-01 19:19:00\")\n",
    "n, n.dtype"
   ]
  },
  {
   "cell_type": "code",
   "execution_count": 43,
   "metadata": {},
   "outputs": [
    {
     "data": {
      "text/plain": [
       "(numpy.datetime64('1997-07-01'), dtype('<M8[D]'))"
      ]
     },
     "execution_count": 43,
     "metadata": {},
     "output_type": "execute_result"
    }
   ],
   "source": [
    "n = np.datetime64(\"1997-07-01 19:19:00\", 'D') \n",
    "n, n.dtype"
   ]
  },
  {
   "cell_type": "code",
   "execution_count": 44,
   "metadata": {},
   "outputs": [
    {
     "data": {
      "text/plain": [
       "(numpy.datetime64('1997-07-01T19:19:00.000000000'), dtype('<M8[ns]'))"
      ]
     },
     "execution_count": 44,
     "metadata": {},
     "output_type": "execute_result"
    }
   ],
   "source": [
    "n = np.datetime64(\"1997-07-01 19:19:00\", 'ns')\n",
    "n, n.dtype"
   ]
  },
  {
   "cell_type": "code",
   "execution_count": 45,
   "metadata": {},
   "outputs": [
    {
     "data": {
      "text/plain": [
       "array(['1997-07-01', '1997-07-02', '1997-07-03', '1997-07-04',\n",
       "       '1997-07-05', '1997-07-06', '1997-07-07', '1997-07-08',\n",
       "       '1997-07-09', '1997-07-10', '1997-07-11', '1997-07-12',\n",
       "       '1997-07-13', '1997-07-14', '1997-07-15', '1997-07-16',\n",
       "       '1997-07-17', '1997-07-18', '1997-07-19', '1997-07-20'], dtype='datetime64[D]')"
      ]
     },
     "execution_count": 45,
     "metadata": {},
     "output_type": "execute_result"
    }
   ],
   "source": [
    "date_np + np.arange(20)"
   ]
  },
  {
   "cell_type": "code",
   "execution_count": 46,
   "metadata": {},
   "outputs": [
    {
     "data": {
      "text/plain": [
       "Timestamp('1997-07-01 00:00:00')"
      ]
     },
     "execution_count": 46,
     "metadata": {},
     "output_type": "execute_result"
    }
   ],
   "source": [
    "date_pd = pd.to_datetime(\"1st of July, 1997\")\n",
    "date_pd"
   ]
  },
  {
   "cell_type": "code",
   "execution_count": 47,
   "metadata": {},
   "outputs": [
    {
     "data": {
      "text/plain": [
       "'Tuesday'"
      ]
     },
     "execution_count": 47,
     "metadata": {},
     "output_type": "execute_result"
    }
   ],
   "source": [
    "date_pd.strftime('%A')"
   ]
  },
  {
   "cell_type": "code",
   "execution_count": 48,
   "metadata": {},
   "outputs": [
    {
     "data": {
      "text/plain": [
       "DatetimeIndex(['1997-07-01', '1997-07-02', '1997-07-03', '1997-07-04',\n",
       "               '1997-07-05', '1997-07-06', '1997-07-07', '1997-07-08',\n",
       "               '1997-07-09', '1997-07-10', '1997-07-11', '1997-07-12',\n",
       "               '1997-07-13', '1997-07-14', '1997-07-15', '1997-07-16',\n",
       "               '1997-07-17', '1997-07-18', '1997-07-19', '1997-07-20'],\n",
       "              dtype='datetime64[ns]', freq=None)"
      ]
     },
     "execution_count": 48,
     "metadata": {},
     "output_type": "execute_result"
    }
   ],
   "source": [
    "date_pd + pd.to_timedelta(np.arange(20), 'D')"
   ]
  },
  {
   "cell_type": "code",
   "execution_count": 49,
   "metadata": {},
   "outputs": [
    {
     "data": {
      "text/plain": [
       "1997-07-01    100\n",
       "1997-07-02    105\n",
       "1997-07-03    110\n",
       "dtype: int64"
      ]
     },
     "execution_count": 49,
     "metadata": {},
     "output_type": "execute_result"
    }
   ],
   "source": [
    "datas = [pd.Timestamp('1997-7-1'), pd.Timestamp('1997-7-2'), pd.Timestamp('1997-7-3')]\n",
    "s = pd.Series([100, 105, 110], index=datas)\n",
    "s"
   ]
  },
  {
   "cell_type": "code",
   "execution_count": 50,
   "metadata": {},
   "outputs": [
    {
     "data": {
      "text/plain": [
       "DatetimeIndex(['1997-07-01', '1997-07-02', '1997-07-03'], dtype='datetime64[ns]', freq=None)"
      ]
     },
     "execution_count": 50,
     "metadata": {},
     "output_type": "execute_result"
    }
   ],
   "source": [
    "s.index"
   ]
  },
  {
   "cell_type": "code",
   "execution_count": 52,
   "metadata": {},
   "outputs": [
    {
     "data": {
      "text/plain": [
       "DatetimeIndex(['1997-07-01', '1997-07-03', '1997-07-05', '1997-07-07',\n",
       "               '1997-07-08', '1997-07-09', '1997-10-07'],\n",
       "              dtype='datetime64[ns]', freq=None)"
      ]
     },
     "execution_count": 52,
     "metadata": {},
     "output_type": "execute_result"
    }
   ],
   "source": [
    "date_index = pd.to_datetime([datetime.datetime(1997,7,1), '3rd of July, 1997', '1997.7.5', \n",
    "                             '1997-07-07', '1997-Jul-8', '19970709', '10/7/1997'])\n",
    "date_index"
   ]
  },
  {
   "cell_type": "code",
   "execution_count": 53,
   "metadata": {},
   "outputs": [
    {
     "data": {
      "text/plain": [
       "1997-07    100.000000\n",
       "1997-08    133.333333\n",
       "1997-09    166.666667\n",
       "1997-10    200.000000\n",
       "Freq: M, dtype: float64"
      ]
     },
     "execution_count": 53,
     "metadata": {},
     "output_type": "execute_result"
    }
   ],
   "source": [
    "periods = [pd.Period('1997-07'), pd.Period('1997-08'), pd.Period('1997-09'), pd.Period('1997-10')]\n",
    "ps = pd.Series(np.linspace(100, 200, 4), index = periods)\n",
    "ps"
   ]
  },
  {
   "cell_type": "code",
   "execution_count": 54,
   "metadata": {},
   "outputs": [
    {
     "data": {
      "text/plain": [
       "PeriodIndex(['1997-07', '1997-08', '1997-09', '1997-10'], dtype='period[M]', freq='M')"
      ]
     },
     "execution_count": 54,
     "metadata": {},
     "output_type": "execute_result"
    }
   ],
   "source": [
    "ps.index"
   ]
  },
  {
   "cell_type": "code",
   "execution_count": 55,
   "metadata": {},
   "outputs": [
    {
     "data": {
      "text/plain": [
       "PeriodIndex(['1997-07-01', '1997-07-03', '1997-07-05', '1997-07-07',\n",
       "             '1997-07-08', '1997-07-09', '1997-10-07'],\n",
       "            dtype='period[D]', freq='D')"
      ]
     },
     "execution_count": 55,
     "metadata": {},
     "output_type": "execute_result"
    }
   ],
   "source": [
    "period_index = date_index.to_period(\"D\")\n",
    "period_index"
   ]
  },
  {
   "cell_type": "code",
   "execution_count": 56,
   "metadata": {},
   "outputs": [
    {
     "data": {
      "text/plain": [
       "PeriodIndex(['1997-07', '1997-07', '1997-07', '1997-07', '1997-07', '1997-07',\n",
       "             '1997-10'],\n",
       "            dtype='period[M]', freq='M')"
      ]
     },
     "execution_count": 56,
     "metadata": {},
     "output_type": "execute_result"
    }
   ],
   "source": [
    "period_index_m = date_index.to_period(\"M\")\n",
    "period_index_m"
   ]
  },
  {
   "cell_type": "code",
   "execution_count": 57,
   "metadata": {},
   "outputs": [
    {
     "data": {
      "text/plain": [
       "Timestamp('1997-07-01 00:00:00')"
      ]
     },
     "execution_count": 57,
     "metadata": {},
     "output_type": "execute_result"
    }
   ],
   "source": [
    "t = date_index[0]\n",
    "t"
   ]
  },
  {
   "cell_type": "code",
   "execution_count": 59,
   "metadata": {},
   "outputs": [
    {
     "data": {
      "text/plain": [
       "TimedeltaIndex(['0 days', '2 days', '4 days', '6 days', '7 days', '8 days',\n",
       "                '98 days'],\n",
       "               dtype='timedelta64[ns]', freq=None)"
      ]
     },
     "execution_count": 59,
     "metadata": {},
     "output_type": "execute_result"
    }
   ],
   "source": [
    "delta_index = date_index - t\n",
    "delta_index"
   ]
  },
  {
   "cell_type": "code",
   "execution_count": 60,
   "metadata": {},
   "outputs": [
    {
     "data": {
      "text/plain": [
       "DatetimeIndex(['1997-07-01', '1997-07-02', '1997-07-03', '1997-07-04',\n",
       "               '1997-07-05', '1997-07-06', '1997-07-07', '1997-07-08',\n",
       "               '1997-07-09', '1997-07-10',\n",
       "               ...\n",
       "               '1997-10-23', '1997-10-24', '1997-10-25', '1997-10-26',\n",
       "               '1997-10-27', '1997-10-28', '1997-10-29', '1997-10-30',\n",
       "               '1997-10-31', '1997-11-01'],\n",
       "              dtype='datetime64[ns]', length=124, freq='D')"
      ]
     },
     "execution_count": 60,
     "metadata": {},
     "output_type": "execute_result"
    }
   ],
   "source": [
    "pd.date_range(\"1997-7\", \"1997-11\")"
   ]
  },
  {
   "cell_type": "code",
   "execution_count": 61,
   "metadata": {},
   "outputs": [
    {
     "data": {
      "text/plain": [
       "DatetimeIndex(['1997-07-31', '1997-08-31', '1997-09-30', '1997-10-31'], dtype='datetime64[ns]', freq='M')"
      ]
     },
     "execution_count": 61,
     "metadata": {},
     "output_type": "execute_result"
    }
   ],
   "source": [
    "pd.date_range(\"1997-7\", \"1997-11\", freq=\"M\")"
   ]
  },
  {
   "cell_type": "code",
   "execution_count": 62,
   "metadata": {},
   "outputs": [
    {
     "data": {
      "text/plain": [
       "DatetimeIndex(['2017-07-01 00:00:00', '2017-07-01 01:00:00',\n",
       "               '2017-07-01 02:00:00', '2017-07-01 03:00:00',\n",
       "               '2017-07-01 04:00:00', '2017-07-01 05:00:00',\n",
       "               '2017-07-01 06:00:00', '2017-07-01 07:00:00'],\n",
       "              dtype='datetime64[ns]', freq='H')"
      ]
     },
     "execution_count": 62,
     "metadata": {},
     "output_type": "execute_result"
    }
   ],
   "source": [
    "pd.date_range(\"2017-7-1\", periods=8, freq=\"H\")"
   ]
  },
  {
   "cell_type": "code",
   "execution_count": 63,
   "metadata": {},
   "outputs": [
    {
     "data": {
      "text/plain": [
       "DatetimeIndex(['2017-07-01 00:00:00', '2017-07-01 01:00:00',\n",
       "               '2017-07-01 02:00:00', '2017-07-01 03:00:00',\n",
       "               '2017-07-01 04:00:00', '2017-07-01 05:00:00',\n",
       "               '2017-07-01 06:00:00', '2017-07-01 07:00:00'],\n",
       "              dtype='datetime64[ns]', freq='H')"
      ]
     },
     "execution_count": 63,
     "metadata": {},
     "output_type": "execute_result"
    }
   ],
   "source": [
    "pd.date_range(\"2017-7-1\", periods=8, freq=\"H\")"
   ]
  },
  {
   "cell_type": "code",
   "execution_count": 64,
   "metadata": {},
   "outputs": [
    {
     "data": {
      "text/plain": [
       "PeriodIndex(['2017-07', '2017-08', '2017-09', '2017-10', '2017-11', '2017-12',\n",
       "             '2018-01'],\n",
       "            dtype='period[M]', freq='M')"
      ]
     },
     "execution_count": 64,
     "metadata": {},
     "output_type": "execute_result"
    }
   ],
   "source": [
    "pd.period_range(\"2017-7\", periods=7, freq=\"M\")"
   ]
  },
  {
   "cell_type": "code",
   "execution_count": 65,
   "metadata": {},
   "outputs": [
    {
     "data": {
      "text/plain": [
       "TimedeltaIndex(['0 days', '1 days', '2 days', '3 days', '4 days', '5 days',\n",
       "                '6 days'],\n",
       "               dtype='timedelta64[ns]', freq='D')"
      ]
     },
     "execution_count": 65,
     "metadata": {},
     "output_type": "execute_result"
    }
   ],
   "source": [
    "pd.timedelta_range(0, periods=7)"
   ]
  },
  {
   "cell_type": "code",
   "execution_count": 66,
   "metadata": {},
   "outputs": [
    {
     "data": {
      "text/plain": [
       "TimedeltaIndex(['00:00:00', '03:30:00', '07:00:00', '10:30:00', '14:00:00',\n",
       "                '17:30:00', '21:00:00'],\n",
       "               dtype='timedelta64[ns]', freq='210T')"
      ]
     },
     "execution_count": 66,
     "metadata": {},
     "output_type": "execute_result"
    }
   ],
   "source": [
    " pd.timedelta_range(0, periods=7, freq=\"3H30T\")"
   ]
  },
  {
   "cell_type": "code",
   "execution_count": 67,
   "metadata": {},
   "outputs": [
    {
     "data": {
      "text/plain": [
       "DatetimeIndex(['2017-10-02', '2017-10-03', '2017-10-04', '2017-10-05',\n",
       "               '2017-10-06', '2017-10-09', '2017-10-10', '2017-10-11',\n",
       "               '2017-10-12'],\n",
       "              dtype='datetime64[ns]', freq='B')"
      ]
     },
     "execution_count": 67,
     "metadata": {},
     "output_type": "execute_result"
    }
   ],
   "source": [
    "pd.date_range(\"2017-9-30\", periods=9, freq=pd.tseries.offsets.BDay())"
   ]
  },
  {
   "cell_type": "code",
   "execution_count": 69,
   "metadata": {},
   "outputs": [
    {
     "data": {
      "text/plain": [
       "Timestamp('2017-07-20 00:00:00', freq='D')"
      ]
     },
     "execution_count": 69,
     "metadata": {},
     "output_type": "execute_result"
    }
   ],
   "source": [
    "dindex = pd.date_range(\"20/7/2017\", periods=50, freq=\"D\")\n",
    "sdata = pd.Series(np.random.randn(len(dindex)), index=dindex)\n",
    "sdata.index[0]"
   ]
  },
  {
   "cell_type": "code",
   "execution_count": 70,
   "metadata": {},
   "outputs": [
    {
     "data": {
      "text/plain": [
       "Timestamp('2017-09-07 00:00:00', freq='D')"
      ]
     },
     "execution_count": 70,
     "metadata": {},
     "output_type": "execute_result"
    }
   ],
   "source": [
    "sdata.index[-1]"
   ]
  },
  {
   "cell_type": "code",
   "execution_count": 71,
   "metadata": {},
   "outputs": [
    {
     "data": {
      "text/plain": [
       "2017-07-31    0.300559\n",
       "2017-08-31   -0.312350\n",
       "2017-09-30   -0.354168\n",
       "Freq: M, dtype: float64"
      ]
     },
     "execution_count": 71,
     "metadata": {},
     "output_type": "execute_result"
    }
   ],
   "source": [
    "sdata.resample('M').mean()"
   ]
  },
  {
   "cell_type": "code",
   "execution_count": 72,
   "metadata": {},
   "outputs": [
    {
     "data": {
      "text/plain": [
       "2017-11-10 00:00:00    21\n",
       "2017-11-10 00:07:00    70\n",
       "2017-11-10 00:14:00    99\n",
       "Freq: 7T, dtype: int64"
      ]
     },
     "execution_count": 72,
     "metadata": {},
     "output_type": "execute_result"
    }
   ],
   "source": [
    "t_index = pd.date_range(\"2017-11-10\", periods=20, freq=\"T\")\n",
    "sdata2 = pd.Series(np.arange(20), index=t_index)\n",
    "sdata2.resample('7min').sum()"
   ]
  },
  {
   "cell_type": "code",
   "execution_count": 73,
   "metadata": {},
   "outputs": [
    {
     "data": {
      "text/plain": [
       "2017-11-09 23:53:00     0\n",
       "2017-11-10 00:00:00    28\n",
       "2017-11-10 00:07:00    77\n",
       "2017-11-10 00:14:00    85\n",
       "Freq: 7T, dtype: int64"
      ]
     },
     "execution_count": 73,
     "metadata": {},
     "output_type": "execute_result"
    }
   ],
   "source": [
    "sdata2.resample('7min', closed='right').sum()"
   ]
  },
  {
   "cell_type": "code",
   "execution_count": 74,
   "metadata": {},
   "outputs": [
    {
     "data": {
      "text/plain": [
       "2017-11-10 00:00:00     0\n",
       "2017-11-10 00:07:00     7\n",
       "2017-11-10 00:14:00    14\n",
       "Freq: 7T, dtype: int64"
      ]
     },
     "execution_count": 74,
     "metadata": {},
     "output_type": "execute_result"
    }
   ],
   "source": [
    "sdata2.asfreq('7min')"
   ]
  },
  {
   "cell_type": "code",
   "execution_count": 75,
   "metadata": {},
   "outputs": [
    {
     "data": {
      "text/plain": [
       "2017-11-10 00:00:00     0.0\n",
       "2017-11-10 00:00:01     NaN\n",
       "2017-11-10 00:00:02     NaN\n",
       "2017-11-10 00:00:03     NaN\n",
       "2017-11-10 00:00:04     NaN\n",
       "2017-11-10 00:00:05     NaN\n",
       "2017-11-10 00:00:06     NaN\n",
       "2017-11-10 00:00:07     NaN\n",
       "2017-11-10 00:00:08     NaN\n",
       "2017-11-10 00:00:09     NaN\n",
       "2017-11-10 00:00:10     NaN\n",
       "2017-11-10 00:00:11     NaN\n",
       "2017-11-10 00:00:12     NaN\n",
       "2017-11-10 00:00:13     NaN\n",
       "2017-11-10 00:00:14     NaN\n",
       "2017-11-10 00:00:15     NaN\n",
       "2017-11-10 00:00:16     NaN\n",
       "2017-11-10 00:00:17     NaN\n",
       "2017-11-10 00:00:18     NaN\n",
       "2017-11-10 00:00:19     NaN\n",
       "2017-11-10 00:00:20     NaN\n",
       "2017-11-10 00:00:21     NaN\n",
       "2017-11-10 00:00:22     NaN\n",
       "2017-11-10 00:00:23     NaN\n",
       "2017-11-10 00:00:24     NaN\n",
       "2017-11-10 00:00:25     NaN\n",
       "2017-11-10 00:00:26     NaN\n",
       "2017-11-10 00:00:27     NaN\n",
       "2017-11-10 00:00:28     NaN\n",
       "2017-11-10 00:00:29     NaN\n",
       "                       ... \n",
       "2017-11-10 00:18:31     NaN\n",
       "2017-11-10 00:18:32     NaN\n",
       "2017-11-10 00:18:33     NaN\n",
       "2017-11-10 00:18:34     NaN\n",
       "2017-11-10 00:18:35     NaN\n",
       "2017-11-10 00:18:36     NaN\n",
       "2017-11-10 00:18:37     NaN\n",
       "2017-11-10 00:18:38     NaN\n",
       "2017-11-10 00:18:39     NaN\n",
       "2017-11-10 00:18:40     NaN\n",
       "2017-11-10 00:18:41     NaN\n",
       "2017-11-10 00:18:42     NaN\n",
       "2017-11-10 00:18:43     NaN\n",
       "2017-11-10 00:18:44     NaN\n",
       "2017-11-10 00:18:45     NaN\n",
       "2017-11-10 00:18:46     NaN\n",
       "2017-11-10 00:18:47     NaN\n",
       "2017-11-10 00:18:48     NaN\n",
       "2017-11-10 00:18:49     NaN\n",
       "2017-11-10 00:18:50     NaN\n",
       "2017-11-10 00:18:51     NaN\n",
       "2017-11-10 00:18:52     NaN\n",
       "2017-11-10 00:18:53     NaN\n",
       "2017-11-10 00:18:54     NaN\n",
       "2017-11-10 00:18:55     NaN\n",
       "2017-11-10 00:18:56     NaN\n",
       "2017-11-10 00:18:57     NaN\n",
       "2017-11-10 00:18:58     NaN\n",
       "2017-11-10 00:18:59     NaN\n",
       "2017-11-10 00:19:00    19.0\n",
       "Freq: S, Length: 1141, dtype: float64"
      ]
     },
     "execution_count": 75,
     "metadata": {},
     "output_type": "execute_result"
    }
   ],
   "source": [
    "sdata2.asfreq('S')"
   ]
  },
  {
   "cell_type": "code",
   "execution_count": 76,
   "metadata": {},
   "outputs": [
    {
     "data": {
      "text/plain": [
       "2017-11-10 00:00:00     0\n",
       "2017-11-10 00:00:01     1\n",
       "2017-11-10 00:00:02     1\n",
       "2017-11-10 00:00:03     1\n",
       "2017-11-10 00:00:04     1\n",
       "2017-11-10 00:00:05     1\n",
       "2017-11-10 00:00:06     1\n",
       "2017-11-10 00:00:07     1\n",
       "2017-11-10 00:00:08     1\n",
       "2017-11-10 00:00:09     1\n",
       "2017-11-10 00:00:10     1\n",
       "2017-11-10 00:00:11     1\n",
       "2017-11-10 00:00:12     1\n",
       "2017-11-10 00:00:13     1\n",
       "2017-11-10 00:00:14     1\n",
       "2017-11-10 00:00:15     1\n",
       "2017-11-10 00:00:16     1\n",
       "2017-11-10 00:00:17     1\n",
       "2017-11-10 00:00:18     1\n",
       "2017-11-10 00:00:19     1\n",
       "2017-11-10 00:00:20     1\n",
       "2017-11-10 00:00:21     1\n",
       "2017-11-10 00:00:22     1\n",
       "2017-11-10 00:00:23     1\n",
       "2017-11-10 00:00:24     1\n",
       "2017-11-10 00:00:25     1\n",
       "2017-11-10 00:00:26     1\n",
       "2017-11-10 00:00:27     1\n",
       "2017-11-10 00:00:28     1\n",
       "2017-11-10 00:00:29     1\n",
       "                       ..\n",
       "2017-11-10 00:18:31    19\n",
       "2017-11-10 00:18:32    19\n",
       "2017-11-10 00:18:33    19\n",
       "2017-11-10 00:18:34    19\n",
       "2017-11-10 00:18:35    19\n",
       "2017-11-10 00:18:36    19\n",
       "2017-11-10 00:18:37    19\n",
       "2017-11-10 00:18:38    19\n",
       "2017-11-10 00:18:39    19\n",
       "2017-11-10 00:18:40    19\n",
       "2017-11-10 00:18:41    19\n",
       "2017-11-10 00:18:42    19\n",
       "2017-11-10 00:18:43    19\n",
       "2017-11-10 00:18:44    19\n",
       "2017-11-10 00:18:45    19\n",
       "2017-11-10 00:18:46    19\n",
       "2017-11-10 00:18:47    19\n",
       "2017-11-10 00:18:48    19\n",
       "2017-11-10 00:18:49    19\n",
       "2017-11-10 00:18:50    19\n",
       "2017-11-10 00:18:51    19\n",
       "2017-11-10 00:18:52    19\n",
       "2017-11-10 00:18:53    19\n",
       "2017-11-10 00:18:54    19\n",
       "2017-11-10 00:18:55    19\n",
       "2017-11-10 00:18:56    19\n",
       "2017-11-10 00:18:57    19\n",
       "2017-11-10 00:18:58    19\n",
       "2017-11-10 00:18:59    19\n",
       "2017-11-10 00:19:00    19\n",
       "Freq: S, Length: 1141, dtype: int64"
      ]
     },
     "execution_count": 76,
     "metadata": {},
     "output_type": "execute_result"
    }
   ],
   "source": [
    "sdata2.asfreq('S', method='bfill')"
   ]
  },
  {
   "cell_type": "code",
   "execution_count": 77,
   "metadata": {},
   "outputs": [
    {
     "data": {
      "text/plain": [
       "2017-11-10 00:00:00      0\n",
       "2017-11-10 00:00:01    999\n",
       "2017-11-10 00:00:02    999\n",
       "2017-11-10 00:00:03    999\n",
       "2017-11-10 00:00:04    999\n",
       "2017-11-10 00:00:05    999\n",
       "2017-11-10 00:00:06    999\n",
       "2017-11-10 00:00:07    999\n",
       "2017-11-10 00:00:08    999\n",
       "2017-11-10 00:00:09    999\n",
       "2017-11-10 00:00:10    999\n",
       "2017-11-10 00:00:11    999\n",
       "2017-11-10 00:00:12    999\n",
       "2017-11-10 00:00:13    999\n",
       "2017-11-10 00:00:14    999\n",
       "2017-11-10 00:00:15    999\n",
       "2017-11-10 00:00:16    999\n",
       "2017-11-10 00:00:17    999\n",
       "2017-11-10 00:00:18    999\n",
       "2017-11-10 00:00:19    999\n",
       "2017-11-10 00:00:20    999\n",
       "2017-11-10 00:00:21    999\n",
       "2017-11-10 00:00:22    999\n",
       "2017-11-10 00:00:23    999\n",
       "2017-11-10 00:00:24    999\n",
       "2017-11-10 00:00:25    999\n",
       "2017-11-10 00:00:26    999\n",
       "2017-11-10 00:00:27    999\n",
       "2017-11-10 00:00:28    999\n",
       "2017-11-10 00:00:29    999\n",
       "                      ... \n",
       "2017-11-10 00:18:31    999\n",
       "2017-11-10 00:18:32    999\n",
       "2017-11-10 00:18:33    999\n",
       "2017-11-10 00:18:34    999\n",
       "2017-11-10 00:18:35    999\n",
       "2017-11-10 00:18:36    999\n",
       "2017-11-10 00:18:37    999\n",
       "2017-11-10 00:18:38    999\n",
       "2017-11-10 00:18:39    999\n",
       "2017-11-10 00:18:40    999\n",
       "2017-11-10 00:18:41    999\n",
       "2017-11-10 00:18:42    999\n",
       "2017-11-10 00:18:43    999\n",
       "2017-11-10 00:18:44    999\n",
       "2017-11-10 00:18:45    999\n",
       "2017-11-10 00:18:46    999\n",
       "2017-11-10 00:18:47    999\n",
       "2017-11-10 00:18:48    999\n",
       "2017-11-10 00:18:49    999\n",
       "2017-11-10 00:18:50    999\n",
       "2017-11-10 00:18:51    999\n",
       "2017-11-10 00:18:52    999\n",
       "2017-11-10 00:18:53    999\n",
       "2017-11-10 00:18:54    999\n",
       "2017-11-10 00:18:55    999\n",
       "2017-11-10 00:18:56    999\n",
       "2017-11-10 00:18:57    999\n",
       "2017-11-10 00:18:58    999\n",
       "2017-11-10 00:18:59    999\n",
       "2017-11-10 00:19:00     19\n",
       "Freq: S, Length: 1141, dtype: int64"
      ]
     },
     "execution_count": 77,
     "metadata": {},
     "output_type": "execute_result"
    }
   ],
   "source": [
    "sdata2.asfreq('S', fill_value=999)"
   ]
  },
  {
   "cell_type": "code",
   "execution_count": 78,
   "metadata": {},
   "outputs": [
    {
     "data": {
      "text/plain": [
       "2017-09-01   -0.590638\n",
       "2017-09-02   -0.879767\n",
       "2017-09-03   -1.346458\n",
       "2017-09-04    0.499601\n",
       "2017-09-05    0.287985\n",
       "2017-09-06   -0.250787\n",
       "2017-09-07   -0.199116\n",
       "Freq: D, dtype: float64"
      ]
     },
     "execution_count": 78,
     "metadata": {},
     "output_type": "execute_result"
    }
   ],
   "source": [
    "sdata['2017-09']"
   ]
  },
  {
   "cell_type": "code",
   "execution_count": null,
   "metadata": {
    "collapsed": true
   },
   "outputs": [],
   "source": []
  }
 ],
 "metadata": {
  "kernelspec": {
   "display_name": "Python 3",
   "language": "python",
   "name": "python3"
  },
  "language_info": {
   "codemirror_mode": {
    "name": "ipython",
    "version": 3
   },
   "file_extension": ".py",
   "mimetype": "text/x-python",
   "name": "python",
   "nbconvert_exporter": "python",
   "pygments_lexer": "ipython3",
   "version": "3.5.2"
  }
 },
 "nbformat": 4,
 "nbformat_minor": 2
}
