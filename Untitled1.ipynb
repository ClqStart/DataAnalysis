{
 "cells": [
  {
   "cell_type": "code",
   "execution_count": 10,
   "metadata": {
    "scrolled": true
   },
   "outputs": [
    {
     "name": "stdout",
     "output_type": "stream",
     "text": [
      "Using matplotlib backend: TkAgg\n"
     ]
    }
   ],
   "source": [
    "%matplotlib\n",
    "import numpy as np\n",
    "import matplotlib.pyplot as plt"
   ]
  },
  {
   "cell_type": "code",
   "execution_count": 14,
   "metadata": {},
   "outputs": [
    {
     "data": {
      "text/plain": [
       "[<matplotlib.lines.Line2D at 0x7f78497bfe48>]"
      ]
     },
     "execution_count": 14,
     "metadata": {},
     "output_type": "execute_result"
    }
   ],
   "source": [
    "fig = plt.figure()\n",
    "ax = fig.add_axes([0.1, 0.1, 0.8, 0.8])\n",
    "x = np.linspace(0, 2*np.pi, 100)\n",
    "ax.plot(x, np.sin(x))"
   ]
  },
  {
   "cell_type": "code",
   "execution_count": 15,
   "metadata": {},
   "outputs": [
    {
     "data": {
      "text/plain": [
       "[<matplotlib.lines.Line2D at 0x7f78497b0358>]"
      ]
     },
     "execution_count": 15,
     "metadata": {},
     "output_type": "execute_result"
    }
   ],
   "source": [
    "plt.figure()\n",
    "plt.plot(x, np.sin(x))"
   ]
  },
  {
   "cell_type": "code",
   "execution_count": 16,
   "metadata": {
    "collapsed": true
   },
   "outputs": [],
   "source": [
    "x = np.arange(0.0, 5.0, 0.02)\n",
    "y = np.exp(-x)*np.cos(2*np.pi*x)\n",
    "plt.plot(x, y)\n",
    "plt.grid(color='gray')"
   ]
  },
  {
   "cell_type": "code",
   "execution_count": 18,
   "metadata": {},
   "outputs": [
    {
     "data": {
      "text/plain": [
       "(-2, 10)"
      ]
     },
     "execution_count": 18,
     "metadata": {},
     "output_type": "execute_result"
    }
   ],
   "source": [
    "fig = plt.figure()\n",
    "ax = fig.add_axes([0.1, 0.1, 0.8,0.8])\n",
    "ax.grid(color='gray')\n",
    "ax.plot(x, y)\n",
    "ax.set_xlabel(\"x\")\n",
    "ax.set_xlim((-2, 10))"
   ]
  },
  {
   "cell_type": "code",
   "execution_count": 19,
   "metadata": {},
   "outputs": [
    {
     "data": {
      "text/plain": [
       "[<matplotlib.axis.XTick at 0x7f78496c1240>,\n",
       " <matplotlib.axis.XTick at 0x7f78496bc7f0>,\n",
       " <matplotlib.axis.XTick at 0x7f7849746b70>,\n",
       " <matplotlib.axis.XTick at 0x7f78496066d8>,\n",
       " <matplotlib.axis.XTick at 0x7f784960f198>,\n",
       " <matplotlib.axis.XTick at 0x7f784963d2e8>,\n",
       " <matplotlib.axis.XTick at 0x7f7849611320>,\n",
       " <matplotlib.axis.XTick at 0x7f78496443c8>,\n",
       " <matplotlib.axis.XTick at 0x7f784962f2e8>,\n",
       " <matplotlib.axis.XTick at 0x7f78495ba898>,\n",
       " <matplotlib.axis.XTick at 0x7f78495be358>]"
      ]
     },
     "execution_count": 19,
     "metadata": {},
     "output_type": "execute_result"
    }
   ],
   "source": [
    "ax.set_xticks(np.linspace(0, 5, 11))"
   ]
  },
  {
   "cell_type": "code",
   "execution_count": 20,
   "metadata": {
    "collapsed": true
   },
   "outputs": [],
   "source": [
    "ax = plt.axes()\n",
    "ax.plot(np.random.rand(50))\n",
    "ax.yaxis.set_major_locator(plt.NullLocator())\n",
    "ax.xaxis.set_major_formatter(plt.NullFormatter())"
   ]
  },
  {
   "cell_type": "code",
   "execution_count": 30,
   "metadata": {
    "collapsed": true
   },
   "outputs": [],
   "source": [
    "from sklearn.datasets import fetch_olivetti_faces\n",
    "faces = fetch_olivetti_faces().images\n",
    "fig, ax = plt.subplots(5, 5, figsize=(5, 5))\n",
    "fig.subplots_adjust(hspace=0, wspace=0)\n",
    "for i in range(5):\n",
    "    for j in range(5):\n",
    "        ax[i, j].xaxis.set_major_locator(plt.NullLocator())\n",
    "        ax[i, j].yaxis.set_major_locator(plt.NullLocator())\n",
    "        ax[i, j].imshow(faces[10*i+j], cmap='bone')"
   ]
  },
  {
   "cell_type": "code",
   "execution_count": 22,
   "metadata": {
    "collapsed": true
   },
   "outputs": [],
   "source": [
    "plt.subplots?\n"
   ]
  },
  {
   "cell_type": "code",
   "execution_count": 39,
   "metadata": {
    "collapsed": true
   },
   "outputs": [],
   "source": [
    "fig, ax = plt.subplots(2, 1)"
   ]
  },
  {
   "cell_type": "code",
   "execution_count": 27,
   "metadata": {},
   "outputs": [
    {
     "data": {
      "text/plain": [
       "array([<matplotlib.axes._subplots.AxesSubplot object at 0x7f783ef9b2e8>,\n",
       "       <matplotlib.axes._subplots.AxesSubplot object at 0x7f783efe6908>], dtype=object)"
      ]
     },
     "execution_count": 27,
     "metadata": {},
     "output_type": "execute_result"
    }
   ],
   "source": [
    "ax"
   ]
  },
  {
   "cell_type": "code",
   "execution_count": 43,
   "metadata": {},
   "outputs": [
    {
     "data": {
      "text/plain": [
       "[<matplotlib.lines.Line2D at 0x7f783d95d5f8>]"
      ]
     },
     "execution_count": 43,
     "metadata": {},
     "output_type": "execute_result"
    }
   ],
   "source": [
    "ax[0].plot(np.linspace(0, 4*np.pi, 10), np.sin(np.linspace(0, 4*np.pi, 10)))"
   ]
  },
  {
   "cell_type": "code",
   "execution_count": 35,
   "metadata": {},
   "outputs": [
    {
     "name": "stdout",
     "output_type": "stream",
     "text": [
      "[-1.  0.  1.  2.  3.  4.  5.  6.  7.]\n",
      "['0.0', '0', '1', '2', '3', '4', '5', '6', '']\n"
     ]
    }
   ],
   "source": [
    "x_axis = ax[0].xaxis\n",
    "x_ticklocs = x_axis.get_ticklocs()\n",
    "print(x_ticklocs)\n",
    "x_ticklabels = [x.get_text() for x in x_axis.get_ticklabels()]\n",
    "print(x_ticklabels)"
   ]
  },
  {
   "cell_type": "code",
   "execution_count": 36,
   "metadata": {},
   "outputs": [
    {
     "data": {
      "text/plain": [
       "<matplotlib.axes._subplots.AxesSubplot at 0x7f783db058d0>"
      ]
     },
     "execution_count": 36,
     "metadata": {},
     "output_type": "execute_result"
    }
   ],
   "source": [
    "ax[0]"
   ]
  },
  {
   "cell_type": "code",
   "execution_count": 38,
   "metadata": {},
   "outputs": [
    {
     "data": {
      "text/plain": [
       "[<matplotlib.lines.Line2D at 0x7f783da149b0>]"
      ]
     },
     "execution_count": 38,
     "metadata": {},
     "output_type": "execute_result"
    }
   ],
   "source": [
    "x = np.linspace(0, 2*np.pi, 100)\n",
    "y = np.sin(x) + np.cos(x)\n",
    "plt.plot(x, y)"
   ]
  },
  {
   "cell_type": "code",
   "execution_count": 41,
   "metadata": {},
   "outputs": [
    {
     "data": {
      "text/plain": [
       "(0, 12.566370614359172)"
      ]
     },
     "execution_count": 41,
     "metadata": {},
     "output_type": "execute_result"
    }
   ],
   "source": [
    "ax[0].set_xlim((0, 4*np.pi))"
   ]
  },
  {
   "cell_type": "code",
   "execution_count": 42,
   "metadata": {},
   "outputs": [
    {
     "data": {
      "text/plain": [
       "[<matplotlib.lines.Line2D at 0x7f783d976d68>]"
      ]
     },
     "execution_count": 42,
     "metadata": {},
     "output_type": "execute_result"
    }
   ],
   "source": [
    "ax[0].plot(np.linspace(0, 2*np.pi, 10), np.sin(np.linspace(0, 2*np.pi, 10)))"
   ]
  },
  {
   "cell_type": "code",
   "execution_count": 55,
   "metadata": {
    "collapsed": true
   },
   "outputs": [],
   "source": [
    "from matplotlib.ticker import MultipleLocator, FormatStrFormatter\n",
    "t = np.linspace(0, 100, 100)\n",
    "s = 9.8 * np.power(t, 2) / 2\n",
    "fig, ax = plt.subplots(figsize=(8, 4))\n",
    "ax.plot(t, s)\n",
    "ax.set_ylim(0, 50000)\n",
    "ax.set_ylabel('displacement')\n",
    "ax.set_xlim(0, 100)\n",
    "ax.set_xlabel('time')\n",
    "\n",
    "xmajor_locator   = MultipleLocator(20)\n",
    "xmajor_formatter = FormatStrFormatter('%1.1f')\n",
    "xminor_locator   = MultipleLocator(5)\n",
    "\n",
    "ymajor_locator   = MultipleLocator(10000)\n",
    "ymajor_formatter = FormatStrFormatter('%1.1f')  \n",
    "yminor_locator   = MultipleLocator(5000) \n",
    "\n",
    "ax.xaxis.set_major_locator(xmajor_locator)\n",
    "ax.xaxis.set_major_formatter(xmajor_formatter)\n",
    "\n",
    "ax.yaxis.set_major_locator(ymajor_locator)  \n",
    "ax.yaxis.set_major_formatter(ymajor_formatter) \n",
    "\n",
    "ax.xaxis.set_minor_locator(xminor_locator)  \n",
    "ax.yaxis.set_minor_locator(yminor_locator) \n",
    "\n",
    "ax.grid(True, which='major')\n",
    "ax.grid(True, which='minor')\n",
    "\n",
    "for tick in ax.xaxis.get_major_ticks():\n",
    "    tick.label1.set_fontsize(16)"
   ]
  },
  {
   "cell_type": "code",
   "execution_count": 57,
   "metadata": {
    "collapsed": true
   },
   "outputs": [],
   "source": [
    "ax.xaxis."
   ]
  },
  {
   "cell_type": "code",
   "execution_count": 63,
   "metadata": {
    "collapsed": true
   },
   "outputs": [],
   "source": [
    "fig, ax = plt.subplots(3, 3, sharex='col', sharey='row')"
   ]
  },
  {
   "cell_type": "code",
   "execution_count": 60,
   "metadata": {},
   "outputs": [
    {
     "data": {
      "text/plain": [
       "(3, 3)"
      ]
     },
     "execution_count": 60,
     "metadata": {},
     "output_type": "execute_result"
    }
   ],
   "source": [
    "ax.shape"
   ]
  },
  {
   "cell_type": "code",
   "execution_count": 61,
   "metadata": {},
   "outputs": [
    {
     "data": {
      "text/plain": [
       "array([[<matplotlib.axes._subplots.AxesSubplot object at 0x7f783e5d70f0>,\n",
       "        <matplotlib.axes._subplots.AxesSubplot object at 0x7f783eb38278>,\n",
       "        <matplotlib.axes._subplots.AxesSubplot object at 0x7f784955ecc0>],\n",
       "       [<matplotlib.axes._subplots.AxesSubplot object at 0x7f783e34c780>,\n",
       "        <matplotlib.axes._subplots.AxesSubplot object at 0x7f783e3b1a90>,\n",
       "        <matplotlib.axes._subplots.AxesSubplot object at 0x7f783efa00f0>],\n",
       "       [<matplotlib.axes._subplots.AxesSubplot object at 0x7f783d64a438>,\n",
       "        <matplotlib.axes._subplots.AxesSubplot object at 0x7f783d8dba90>,\n",
       "        <matplotlib.axes._subplots.AxesSubplot object at 0x7f783f023be0>]], dtype=object)"
      ]
     },
     "execution_count": 61,
     "metadata": {},
     "output_type": "execute_result"
    }
   ],
   "source": [
    "ax"
   ]
  },
  {
   "cell_type": "code",
   "execution_count": 64,
   "metadata": {
    "collapsed": true
   },
   "outputs": [],
   "source": [
    "for i in range(3):\n",
    "    for j in range(3):\n",
    "        ax[i, j].text(0.5, 0.5, str((i, j)), fontsize=18, ha='center')"
   ]
  },
  {
   "cell_type": "code",
   "execution_count": 66,
   "metadata": {
    "collapsed": true
   },
   "outputs": [],
   "source": [
    "for i in range(1, 7):\n",
    "    plt.subplot(2, 3, i)\n",
    "    plt.text(0.5, 0.5, str((2, 3, i)), fontsize=18, ha='center')"
   ]
  },
  {
   "cell_type": "code",
   "execution_count": 69,
   "metadata": {
    "collapsed": true
   },
   "outputs": [],
   "source": [
    "fig = plt.figure()\n",
    "fig.subplots_adjust(hspace=0.4, wspace=0.4)\n",
    "for i in range(1, 7):\n",
    "    ax = fig.add_subplot(2, 3, i)\n",
    "    ax.text(0.5, 0.5, str((2, 3, i)), fontsize=18, ha='center')"
   ]
  },
  {
   "cell_type": "code",
   "execution_count": 82,
   "metadata": {
    "collapsed": true
   },
   "outputs": [],
   "source": [
    "fig = plt.figure()\n",
    "ax1 = fig.add_axes([0.1, 0.1, 0.8, 0.8])\n",
    "ax2 = fig.add_axes([0.6, 0.5, 0.2, 0.3])"
   ]
  },
  {
   "cell_type": "code",
   "execution_count": 83,
   "metadata": {
    "collapsed": true
   },
   "outputs": [],
   "source": [
    "fig.add_axes?"
   ]
  },
  {
   "cell_type": "code",
   "execution_count": 89,
   "metadata": {},
   "outputs": [
    {
     "data": {
      "text/plain": [
       "<matplotlib.axes._subplots.AxesSubplot at 0x7f783e553e10>"
      ]
     },
     "execution_count": 89,
     "metadata": {},
     "output_type": "execute_result"
    }
   ],
   "source": [
    "g = plt.GridSpec(3, 3, hspace=0.3, wspace=0.3)\n",
    "plt.subplot(g[0, 0])\n",
    "plt.subplot(g[:2, 1:])\n",
    "plt.subplot(g[1:, 0])\n",
    "plt.subplot(g[2, 1:])"
   ]
  },
  {
   "cell_type": "code",
   "execution_count": 90,
   "metadata": {
    "collapsed": true
   },
   "outputs": [],
   "source": [
    "plt.GridSpec?\n"
   ]
  },
  {
   "cell_type": "code",
   "execution_count": 93,
   "metadata": {},
   "outputs": [
    {
     "data": {
      "text/plain": [
       "[<matplotlib.lines.Line2D at 0x7f783e929e80>]"
      ]
     },
     "execution_count": 93,
     "metadata": {},
     "output_type": "execute_result"
    }
   ],
   "source": [
    "x = np.linspace(0, 2*np.pi, 100)\n",
    "plt.plot(x, np.sin(x), color='honeydew')\n",
    "plt.plot(x, np.sin(x-np.pi/3), color='r')\n",
    "plt.plot(x, np.sin(x-2*np.pi/3), color='#A52A2A')"
   ]
  },
  {
   "cell_type": "code",
   "execution_count": 132,
   "metadata": {},
   "outputs": [
    {
     "data": {
      "text/plain": [
       "[<matplotlib.lines.Line2D at 0x7f783ce31b70>]"
      ]
     },
     "execution_count": 132,
     "metadata": {},
     "output_type": "execute_result"
    }
   ],
   "source": [
    "plt.plot(x, np.cos(x), linewidth=8)"
   ]
  },
  {
   "cell_type": "code",
   "execution_count": 133,
   "metadata": {},
   "outputs": [
    {
     "data": {
      "text/plain": [
       "[<matplotlib.lines.Line2D at 0x7f783cda3630>]"
      ]
     },
     "execution_count": 133,
     "metadata": {},
     "output_type": "execute_result"
    }
   ],
   "source": [
    "plt.plot(x, y, 'o', color='black')"
   ]
  },
  {
   "cell_type": "code",
   "execution_count": 135,
   "metadata": {},
   "outputs": [
    {
     "data": {
      "text/plain": [
       "[<matplotlib.lines.Line2D at 0x7f783ccfaac8>]"
      ]
     },
     "execution_count": 135,
     "metadata": {},
     "output_type": "execute_result"
    }
   ],
   "source": [
    "x = np.linspace(0, 2*np.pi, 20)\n",
    "y = np.sin(x)\n",
    "plt.plot(x, y, '-ok')"
   ]
  },
  {
   "cell_type": "code",
   "execution_count": 141,
   "metadata": {},
   "outputs": [
    {
     "data": {
      "text/plain": [
       "<matplotlib.colorbar.Colorbar at 0x7f783d053b38>"
      ]
     },
     "execution_count": 141,
     "metadata": {},
     "output_type": "execute_result"
    }
   ],
   "source": [
    "rng = np.random.RandomState(0)\n",
    "x = rng.randn(100)\n",
    "y = rng.randn(100)\n",
    "colors = rng.rand(100)\n",
    "sizes = 1000 * rng.rand(100)\n",
    "plt.scatter(x, y, c=colors, s=sizes, alpha=0.3, cmap='viridis')\n",
    "plt.colorbar()"
   ]
  },
  {
   "cell_type": "code",
   "execution_count": 140,
   "metadata": {},
   "outputs": [
    {
     "data": {
      "text/plain": [
       "<matplotlib.collections.PathCollection at 0x7f783cfbcef0>"
      ]
     },
     "execution_count": 140,
     "metadata": {},
     "output_type": "execute_result"
    }
   ],
   "source": [
    "rng = np.random.RandomState(0)\n",
    "x = rng.randn(100)\n",
    "y = rng.randn(100)\n",
    "colors = rng.rand(100)\n",
    "sizes = 1000 * rng.rand(100)\n",
    "plt.scatter(x, y, c=colors, s=sizes, alpha=0.3)"
   ]
  },
  {
   "cell_type": "code",
   "execution_count": 150,
   "metadata": {
    "collapsed": true
   },
   "outputs": [],
   "source": [
    "plt.plot(range(10), '-Dr', markersize=16, markerfacecolor='b', markevery=[2,4,6])\n",
    "plt.grid(True)"
   ]
  },
  {
   "cell_type": "code",
   "execution_count": 157,
   "metadata": {
    "collapsed": true
   },
   "outputs": [],
   "source": [
    "x = np.linspace(-np.pi, np.pi, 20)\n",
    "plt.plot(x, np.cos(x), 'hr', markersize=16, markerfacecolor='m')\n",
    "plt.grid(True)"
   ]
  },
  {
   "cell_type": "code",
   "execution_count": 159,
   "metadata": {},
   "outputs": [
    {
     "data": {
      "text/plain": [
       "[<matplotlib.lines.Line2D at 0x7f783c68b630>]"
      ]
     },
     "execution_count": 159,
     "metadata": {},
     "output_type": "execute_result"
    }
   ],
   "source": [
    "x = np.linspace(-np.pi, np.pi, 9)\n",
    "plt.plot(x, np.cos(x), linewidth=8)"
   ]
  },
  {
   "cell_type": "code",
   "execution_count": 174,
   "metadata": {},
   "outputs": [
    {
     "data": {
      "text/plain": [
       "<matplotlib.legend.Legend at 0x7f783c924400>"
      ]
     },
     "execution_count": 174,
     "metadata": {},
     "output_type": "execute_result"
    }
   ],
   "source": [
    "a = np.arange(0, 3, .02)\n",
    "b = np.arange(0, 3, .02)\n",
    "c = np.exp(a)\n",
    "d = c[::-1]\n",
    "#plt.plot(a, c, 'k--', a, d, 'k:', a, c+d, 'k')\n",
    "line1, = plt.plot(a, c, 'k--', label=\"Model\")\n",
    "line2 =plt.plot(a, d, 'r:', label=\"Data\")[0]\n",
    "line3, =plt.plot(a, c+d, 'b-', label=\"Total\")\n",
    "plt.legend(handles=(line1, line2), loc=9)"
   ]
  },
  {
   "cell_type": "code",
   "execution_count": 173,
   "metadata": {},
   "outputs": [
    {
     "data": {
      "text/plain": [
       "[<matplotlib.lines.Line2D at 0x7f783caab198>]"
      ]
     },
     "execution_count": 173,
     "metadata": {},
     "output_type": "execute_result"
    }
   ],
   "source": [
    "line1 = plt.plot(a, c, 'k--', label=\"Model\")\n",
    "line1"
   ]
  },
  {
   "cell_type": "code",
   "execution_count": 175,
   "metadata": {
    "collapsed": true
   },
   "outputs": [],
   "source": [
    "plt.legend?"
   ]
  },
  {
   "cell_type": "code",
   "execution_count": 212,
   "metadata": {},
   "outputs": [
    {
     "data": {
      "text/plain": [
       "<matplotlib.legend.Legend at 0x7f783b69f2b0>"
      ]
     },
     "execution_count": 212,
     "metadata": {},
     "output_type": "execute_result"
    }
   ],
   "source": [
    "plt.plot([0,1,2,3,4,5], label=\"positive\")\n",
    "plt.plot([5,4,3,2,1,0], label=\"negative\")\n",
    "#plt.legend(bbox_to_anchor=(0, 1.02, 1, 1.02), loc=3, ncol=2, mode=\"expand\")\n",
    "plt.legend(bbox_to_anchor=(0, 1, 0.5, 0.01), loc=3, ncol=2)"
   ]
  },
  {
   "cell_type": "code",
   "execution_count": 203,
   "metadata": {
    "collapsed": true
   },
   "outputs": [],
   "source": [
    "plt.legend?"
   ]
  },
  {
   "cell_type": "code",
   "execution_count": 213,
   "metadata": {},
   "outputs": [
    {
     "name": "stdout",
     "output_type": "stream",
     "text": [
      "6\n"
     ]
    },
    {
     "data": {
      "text/plain": [
       "[<function __main__.multipliers.<locals>.<listcomp>.<lambda>>,\n",
       " <function __main__.multipliers.<locals>.<listcomp>.<lambda>>,\n",
       " <function __main__.multipliers.<locals>.<listcomp>.<lambda>>,\n",
       " <function __main__.multipliers.<locals>.<listcomp>.<lambda>>]"
      ]
     },
     "execution_count": 213,
     "metadata": {},
     "output_type": "execute_result"
    }
   ],
   "source": [
    "def multipliers():\n",
    "    lst = [lambda x: i*x for i in range(4)]\n",
    "    print(lst[0](2))\n",
    "    return lst\n",
    "multipliers()"
   ]
  },
  {
   "cell_type": "code",
   "execution_count": 215,
   "metadata": {},
   "outputs": [
    {
     "name": "stdout",
     "output_type": "stream",
     "text": [
      "0\n",
      "1\n",
      "2\n",
      "3\n"
     ]
    }
   ],
   "source": [
    "a = [lambda x, i=i:x*i for i in range(4)]\n",
    "for func in a:\n",
    "    print(func(1))"
   ]
  },
  {
   "cell_type": "code",
   "execution_count": 221,
   "metadata": {},
   "outputs": [
    {
     "name": "stdout",
     "output_type": "stream",
     "text": [
      "3\n",
      "3\n",
      "3\n"
     ]
    }
   ],
   "source": [
    "x = [lambda: x for x in range(4)]\n",
    "print(x[0]())\n",
    "print(x[1]())\n",
    "print(x[2]())"
   ]
  },
  {
   "cell_type": "code",
   "execution_count": 222,
   "metadata": {
    "collapsed": true
   },
   "outputs": [],
   "source": [
    "plt.legend?"
   ]
  },
  {
   "cell_type": "code",
   "execution_count": 244,
   "metadata": {},
   "outputs": [
    {
     "data": {
      "text/plain": [
       "<matplotlib.legend.Legend at 0x7f783aaa5908>"
      ]
     },
     "execution_count": 244,
     "metadata": {},
     "output_type": "execute_result"
    }
   ],
   "source": [
    "x = np.linspace(0, 10, 1000)\n",
    "fig, ax = plt.subplots(2, 2)\n",
    "\n",
    "for i in range(2):\n",
    "    for j in range(2):\n",
    "        ax[i, j].axis('equal')\n",
    "        line1, = ax[i, j].plot(x, np.sin(x), '-b', label='sin(x)')\n",
    "        line2, = ax[i, j].plot(x, np.cos(x), '--r', label='cos(x)')\n",
    "\n",
    "ax[0, 0].legend(loc='upper right', frameon=False, fontsize=20)\n",
    "ax[0, 1].legend(loc='lower center', frameon=False, ncol=2, fontsize='large')\n",
    "ax[1, 0].legend(fancybox=True, framealpha=1, shadow=True, borderpad=1,  fontsize='x-large')\n",
    "\n",
    "ax[1, 1].legend(handles=[line1], loc='upper right', fontsize='xx-large')\n",
    "from matplotlib.legend import Legend\n",
    "leg = Legend(ax[1, 1], [line2], ['cos(x)'], loc='lower right',  fontsize=20)\n",
    "ax[1, 1].add_artist(leg)"
   ]
  },
  {
   "cell_type": "code",
   "execution_count": 233,
   "metadata": {},
   "outputs": [
    {
     "data": {
      "text/plain": [
       "array([[1, 2],\n",
       "       [3, 4]])"
      ]
     },
     "execution_count": 233,
     "metadata": {},
     "output_type": "execute_result"
    }
   ],
   "source": [
    "a = np.array([[1,2], [3,4]])\n",
    "a"
   ]
  },
  {
   "cell_type": "code",
   "execution_count": 234,
   "metadata": {},
   "outputs": [
    {
     "data": {
      "text/plain": [
       "(2, 2)"
      ]
     },
     "execution_count": 234,
     "metadata": {},
     "output_type": "execute_result"
    }
   ],
   "source": [
    "a.shape\n"
   ]
  },
  {
   "cell_type": "code",
   "execution_count": 235,
   "metadata": {},
   "outputs": [
    {
     "name": "stdout",
     "output_type": "stream",
     "text": [
      "1 2\n",
      "3 4\n"
     ]
    }
   ],
   "source": [
    "for i,j in a:\n",
    "    print(i, j)"
   ]
  },
  {
   "cell_type": "code",
   "execution_count": 236,
   "metadata": {},
   "outputs": [
    {
     "name": "stdout",
     "output_type": "stream",
     "text": [
      "[1 2]\n",
      "[3 4]\n"
     ]
    }
   ],
   "source": [
    "for i in a:\n",
    "    print(i)"
   ]
  },
  {
   "cell_type": "code",
   "execution_count": 242,
   "metadata": {
    "collapsed": true
   },
   "outputs": [],
   "source": [
    "plt.legend?"
   ]
  },
  {
   "cell_type": "code",
   "execution_count": 262,
   "metadata": {},
   "outputs": [
    {
     "data": {
      "text/plain": [
       "[<matplotlib.lines.Line2D at 0x7f783b0b5320>]"
      ]
     },
     "execution_count": 262,
     "metadata": {},
     "output_type": "execute_result"
    }
   ],
   "source": [
    "rng = np.random.RandomState(0)    #①\n",
    "x = rng.randn(100)    #②\n",
    "#y = rng.randn(100)\n",
    "mu, sigma = 0, 0.5\n",
    "s = np.random.normal(mu, sigma, 100)\n",
    "y = 2*x + 4 + s\n",
    "#colors = rng.rand(100)    #③\n",
    "#sizes = 1000 * rng.rand(1000)\n",
    "plt.scatter(x, y)    #④\n",
    "plt.plot(x, 2*x + 4)\n",
    "#plt.colorbar() "
   ]
  },
  {
   "cell_type": "code",
   "execution_count": 246,
   "metadata": {
    "collapsed": true
   },
   "outputs": [],
   "source": [
    "plt.scatter?"
   ]
  },
  {
   "cell_type": "code",
   "execution_count": 247,
   "metadata": {
    "collapsed": true
   },
   "outputs": [],
   "source": [
    "plt.colorbar?"
   ]
  },
  {
   "cell_type": "code",
   "execution_count": 253,
   "metadata": {},
   "outputs": [
    {
     "name": "stdout",
     "output_type": "stream",
     "text": [
      "[ 0.41703018 -0.70836488 -0.69205202  0.37707567  0.05350574 -0.75914987\n",
      " -0.04558904  0.65317904 -0.04209312 -0.19914848 -0.05707904 -0.08548723\n",
      "  0.00904258  0.25448274 -0.4199696   0.19067507 -0.74065005  0.28824495\n",
      " -0.54180138 -0.32096066  0.42352369  0.67517569 -0.18760787 -0.69833081\n",
      " -0.26258748 -1.14646804  0.087395    0.37611485  0.53958841 -0.78620664\n",
      "  0.46613461 -0.7817615  -0.97736751  0.45352735 -0.46856254  0.34288425\n",
      " -0.2784761   0.03302367  0.81046367  0.29925369 -0.32666253  0.40942757\n",
      "  0.34162451  0.18815402  0.06536602 -0.35633186  0.22885503  0.22456523\n",
      " -0.13998243 -0.14776051 -0.10851221  0.60148094 -0.18855764 -1.66108462\n",
      "  0.16447298 -0.3486563   0.42876397  0.50387959 -0.99983251  0.4887402\n",
      "  0.15915985  0.04628521  0.43322441  0.46120723  0.40607172  0.20398151\n",
      " -0.15693584 -0.50869638  0.19441252 -0.41944547 -0.33843112  0.51536279\n",
      " -0.13040783 -0.17139585  1.37332686  0.08303013  0.01968098 -0.35137469\n",
      " -0.19522232  0.39412476  0.75804265  0.31858253  0.09985606 -0.04605765\n",
      " -0.45789846 -0.13536418  0.66389376  0.22780923 -0.25005468  0.16245628\n",
      "  0.60549607  0.08007818 -0.01521261  0.29623588 -0.67533839 -0.25014393\n",
      " -0.22456108  0.33323732  0.75405003  1.24505445]\n"
     ]
    }
   ],
   "source": [
    "mu, sigma = 0, 0.5\n",
    "s = np.random.normal(mu, sigma, 100)\n",
    "print(s)"
   ]
  },
  {
   "cell_type": "code",
   "execution_count": 250,
   "metadata": {},
   "outputs": [
    {
     "data": {
      "text/plain": [
       "array([ 0.13120526,  0.1347622 , -0.16780066, -0.00460104, -0.02209201,\n",
       "        0.14395581, -0.11829783,  0.08323391,  0.01892785,  0.06062087,\n",
       "        0.0004886 , -0.10147941,  0.03740127,  0.10440075,  0.03969049,\n",
       "       -0.1173275 , -0.09663965, -0.15469595, -0.00088096,  0.00510625,\n",
       "        0.04897646, -0.00970588, -0.14986634,  0.11361762,  0.01964469,\n",
       "       -0.0467756 , -0.19249112,  0.10361429,  0.01575773,  0.06691613,\n",
       "        0.02361552, -0.04204594,  0.11687956,  0.06541251,  0.09129163,\n",
       "        0.04767369, -0.14439105, -0.17083386, -0.08950232,  0.2522871 ,\n",
       "       -0.05183239,  0.199785  , -0.09414355, -0.03857366,  0.04770222,\n",
       "       -0.05836772, -0.08073099, -0.07728069, -0.04837806,  0.2144049 ,\n",
       "        0.1825591 ,  0.17793864,  0.12354039, -0.00390927, -0.06742448,\n",
       "        0.01684356, -0.03175542,  0.06453739,  0.09895927, -0.01203017,\n",
       "        0.03284989, -0.08907134, -0.08833425, -0.10873709,  0.00738163,\n",
       "        0.02337029, -0.10710829,  0.09726269, -0.06626559,  0.08130923,\n",
       "        0.21220044,  0.06841201,  0.02165337, -0.09727984,  0.13642509,\n",
       "       -0.06297898, -0.02738878,  0.01364038, -0.15797186, -0.02475955,\n",
       "        0.20829173,  0.02343212, -0.0389547 , -0.10904048, -0.14142183,\n",
       "        0.17992544, -0.13188429,  0.00773935, -0.04604751, -0.01306705,\n",
       "        0.01237888,  0.10365262,  0.01577313,  0.11101701, -0.04557701,\n",
       "        0.03022464, -0.10284296, -0.04727806, -0.0336644 ,  0.03301633])"
      ]
     },
     "execution_count": 250,
     "metadata": {},
     "output_type": "execute_result"
    }
   ],
   "source": [
    "s"
   ]
  },
  {
   "cell_type": "code",
   "execution_count": 273,
   "metadata": {},
   "outputs": [
    {
     "data": {
      "text/plain": [
       "<matplotlib.text.Text at 0x7f7833f8a630>"
      ]
     },
     "execution_count": 273,
     "metadata": {},
     "output_type": "execute_result"
    }
   ],
   "source": [
    "import pandas as pd\n",
    "cities = pd.read_csv(\"/home/qiwsir/Documents/data_analysis/chapter03/city_population.csv\")\n",
    "lat = cities['latd']\n",
    "lon = cities['longd']\n",
    "population = cities['population'],\n",
    "area = cities['area']\n",
    "\n",
    "plt.scatter(lon, lat, label=None, c=np.log10(population), cmap='viridis', s=area, linewidth=0, alpha=0.5)\n",
    "plt.axis(aspect='equal')\n",
    "plt.xlabel(\"longitude\")\n",
    "plt.ylabel('latitude')\n",
    "plt.colorbar(label='log$_{10}$(population)')\n",
    "#plt.clim(3, 7)\n",
    "\n",
    "for area in [100, 300, 500]:\n",
    "    plt.scatter([], [], c='k', alpha=0.3, s=area, label=str(area) + ' km$^2$')\n",
    "\n",
    "plt.legend(scatterpoints=1, frameon=False, labelspacing=1, title='City Area')\n",
    "\n",
    "plt.title('Jiangsu Cities: Area and Population')"
   ]
  },
  {
   "cell_type": "code",
   "execution_count": 264,
   "metadata": {},
   "outputs": [
    {
     "data": {
      "text/html": [
       "<div>\n",
       "<style>\n",
       "    .dataframe thead tr:only-child th {\n",
       "        text-align: right;\n",
       "    }\n",
       "\n",
       "    .dataframe thead th {\n",
       "        text-align: left;\n",
       "    }\n",
       "\n",
       "    .dataframe tbody tr th {\n",
       "        vertical-align: top;\n",
       "    }\n",
       "</style>\n",
       "<table border=\"1\" class=\"dataframe\">\n",
       "  <thead>\n",
       "    <tr style=\"text-align: right;\">\n",
       "      <th></th>\n",
       "      <th>name</th>\n",
       "      <th>area</th>\n",
       "      <th>population</th>\n",
       "      <th>longd</th>\n",
       "      <th>latd</th>\n",
       "    </tr>\n",
       "  </thead>\n",
       "  <tbody>\n",
       "    <tr>\n",
       "      <th>0</th>\n",
       "      <td>南京市</td>\n",
       "      <td>6582.31</td>\n",
       "      <td>8004680</td>\n",
       "      <td>118.78</td>\n",
       "      <td>32.04</td>\n",
       "    </tr>\n",
       "    <tr>\n",
       "      <th>1</th>\n",
       "      <td>无锡市</td>\n",
       "      <td>4787.61</td>\n",
       "      <td>6372624</td>\n",
       "      <td>120.29</td>\n",
       "      <td>31.59</td>\n",
       "    </tr>\n",
       "    <tr>\n",
       "      <th>2</th>\n",
       "      <td>徐州市</td>\n",
       "      <td>11764.88</td>\n",
       "      <td>8580500</td>\n",
       "      <td>117.20</td>\n",
       "      <td>34.26</td>\n",
       "    </tr>\n",
       "    <tr>\n",
       "      <th>3</th>\n",
       "      <td>常州市</td>\n",
       "      <td>4384.57</td>\n",
       "      <td>4591972</td>\n",
       "      <td>119.95</td>\n",
       "      <td>31.79</td>\n",
       "    </tr>\n",
       "    <tr>\n",
       "      <th>4</th>\n",
       "      <td>苏州市</td>\n",
       "      <td>8488.42</td>\n",
       "      <td>10465994</td>\n",
       "      <td>120.62</td>\n",
       "      <td>31.32</td>\n",
       "    </tr>\n",
       "    <tr>\n",
       "      <th>5</th>\n",
       "      <td>南通市</td>\n",
       "      <td>8001.00</td>\n",
       "      <td>7282835</td>\n",
       "      <td>120.86</td>\n",
       "      <td>32.01</td>\n",
       "    </tr>\n",
       "    <tr>\n",
       "      <th>6</th>\n",
       "      <td>连云港市</td>\n",
       "      <td>7615.29</td>\n",
       "      <td>4393914</td>\n",
       "      <td>119.16</td>\n",
       "      <td>34.59</td>\n",
       "    </tr>\n",
       "    <tr>\n",
       "      <th>7</th>\n",
       "      <td>淮安市</td>\n",
       "      <td>9949.97</td>\n",
       "      <td>4799889</td>\n",
       "      <td>119.15</td>\n",
       "      <td>33.50</td>\n",
       "    </tr>\n",
       "    <tr>\n",
       "      <th>8</th>\n",
       "      <td>盐城市</td>\n",
       "      <td>16972.42</td>\n",
       "      <td>7260240</td>\n",
       "      <td>120.13</td>\n",
       "      <td>33.38</td>\n",
       "    </tr>\n",
       "    <tr>\n",
       "      <th>9</th>\n",
       "      <td>扬州市</td>\n",
       "      <td>6591.21</td>\n",
       "      <td>4459760</td>\n",
       "      <td>119.42</td>\n",
       "      <td>32.39</td>\n",
       "    </tr>\n",
       "    <tr>\n",
       "      <th>10</th>\n",
       "      <td>镇江市</td>\n",
       "      <td>3840.32</td>\n",
       "      <td>3113384</td>\n",
       "      <td>119.44</td>\n",
       "      <td>32.20</td>\n",
       "    </tr>\n",
       "    <tr>\n",
       "      <th>11</th>\n",
       "      <td>泰州市</td>\n",
       "      <td>5787.26</td>\n",
       "      <td>4618558</td>\n",
       "      <td>119.90</td>\n",
       "      <td>32.49</td>\n",
       "    </tr>\n",
       "    <tr>\n",
       "      <th>12</th>\n",
       "      <td>宿迁市</td>\n",
       "      <td>8555.00</td>\n",
       "      <td>4715553</td>\n",
       "      <td>118.30</td>\n",
       "      <td>33.96</td>\n",
       "    </tr>\n",
       "  </tbody>\n",
       "</table>\n",
       "</div>"
      ],
      "text/plain": [
       "    name      area  population   longd   latd\n",
       "0    南京市   6582.31     8004680  118.78  32.04\n",
       "1    无锡市   4787.61     6372624  120.29  31.59\n",
       "2    徐州市  11764.88     8580500  117.20  34.26\n",
       "3    常州市   4384.57     4591972  119.95  31.79\n",
       "4    苏州市   8488.42    10465994  120.62  31.32\n",
       "5    南通市   8001.00     7282835  120.86  32.01\n",
       "6   连云港市   7615.29     4393914  119.16  34.59\n",
       "7    淮安市   9949.97     4799889  119.15  33.50\n",
       "8    盐城市  16972.42     7260240  120.13  33.38\n",
       "9    扬州市   6591.21     4459760  119.42  32.39\n",
       "10   镇江市   3840.32     3113384  119.44  32.20\n",
       "11   泰州市   5787.26     4618558  119.90  32.49\n",
       "12   宿迁市   8555.00     4715553  118.30  33.96"
      ]
     },
     "execution_count": 264,
     "metadata": {},
     "output_type": "execute_result"
    }
   ],
   "source": [
    "cities"
   ]
  },
  {
   "cell_type": "code",
   "execution_count": null,
   "metadata": {
    "collapsed": true
   },
   "outputs": [],
   "source": []
  }
 ],
 "metadata": {
  "kernelspec": {
   "display_name": "Python 3",
   "language": "python",
   "name": "python3"
  },
  "language_info": {
   "codemirror_mode": {
    "name": "ipython",
    "version": 3
   },
   "file_extension": ".py",
   "mimetype": "text/x-python",
   "name": "python",
   "nbconvert_exporter": "python",
   "pygments_lexer": "ipython3",
   "version": "3.5.2"
  }
 },
 "nbformat": 4,
 "nbformat_minor": 2
}
