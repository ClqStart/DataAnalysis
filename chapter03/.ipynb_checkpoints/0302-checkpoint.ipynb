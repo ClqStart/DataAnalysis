{
 "cells": [
  {
   "cell_type": "code",
   "execution_count": 1,
   "metadata": {},
   "outputs": [
    {
     "name": "stdout",
     "output_type": "stream",
     "text": [
      "Using matplotlib backend: TkAgg\n"
     ]
    }
   ],
   "source": [
    "%matplotlib\n",
    "import numpy as np\n",
    "import pandas as pd\n",
    "import matplotlib.pyplot as plt\n",
    "x = np.arange(0.0, 5.0, 0.02)\n",
    "y = np.exp(-x)*np.cos(2*np.pi*x)\n",
    "plt.plot(x, y)\n",
    "plt.grid(color='gray')"
   ]
  },
  {
   "cell_type": "code",
   "execution_count": 2,
   "metadata": {},
   "outputs": [
    {
     "data": {
      "text/plain": [
       "[<matplotlib.lines.Line2D at 0x7f8507f7bb38>]"
      ]
     },
     "execution_count": 2,
     "metadata": {},
     "output_type": "execute_result"
    }
   ],
   "source": [
    "fig = plt.figure()\n",
    "ax = fig.add_axes([0.1, 0.1, 0.8,0.8])\n",
    "ax.grid(color='gray')\n",
    "ax.plot(x, y)"
   ]
  },
  {
   "cell_type": "code",
   "execution_count": 13,
   "metadata": {},
   "outputs": [
    {
     "data": {
      "text/plain": [
       "[<matplotlib.axis.XTick at 0x7f8507da8b38>,\n",
       " <matplotlib.axis.XTick at 0x7f8507dae080>,\n",
       " <matplotlib.axis.XTick at 0x7f8507d2c0f0>,\n",
       " <matplotlib.axis.XTick at 0x7f8507cedc88>,\n",
       " <matplotlib.axis.XTick at 0x7f8507cf06d8>,\n",
       " <matplotlib.axis.XTick at 0x7f8507cf5128>,\n",
       " <matplotlib.axis.XTick at 0x7f8507cf5b38>,\n",
       " <matplotlib.axis.XTick at 0x7f8507cfa588>,\n",
       " <matplotlib.axis.XTick at 0x7f8507cfaf98>,\n",
       " <matplotlib.axis.XTick at 0x7f8507cfe9e8>,\n",
       " <matplotlib.axis.XTick at 0x7f8507d04438>]"
      ]
     },
     "execution_count": 13,
     "metadata": {},
     "output_type": "execute_result"
    }
   ],
   "source": [
    "fig = plt.figure()\n",
    "ax = fig.add_axes([0.1, 0.1, 0.8,0.8])\n",
    "ax.grid(color='gray')\n",
    "ax.plot(x, y)\n",
    "ax.set_xlabel(\"x axis\")     #新增，为x轴设置标题\n",
    "ax.set_xlim((0, 5))    #新增，为x轴设置数值范围\n",
    "ax.set_xticks(np.linspace(0, 5, 11))"
   ]
  },
  {
   "cell_type": "code",
   "execution_count": 14,
   "metadata": {
    "collapsed": true
   },
   "outputs": [],
   "source": [
    "ax = plt.axes()\n",
    "ax.plot(np.random.rand(50))\n",
    "ax.yaxis.set_major_locator(plt.NullLocator())\n",
    "ax.xaxis.set_major_formatter(plt.NullFormatter())"
   ]
  },
  {
   "cell_type": "code",
   "execution_count": 17,
   "metadata": {
    "collapsed": true
   },
   "outputs": [],
   "source": [
    "fig, ax = plt.subplots(2, 1)"
   ]
  },
  {
   "cell_type": "code",
   "execution_count": 18,
   "metadata": {},
   "outputs": [
    {
     "data": {
      "text/plain": [
       "[<matplotlib.lines.Line2D at 0x7f8507c54c18>]"
      ]
     },
     "execution_count": 18,
     "metadata": {},
     "output_type": "execute_result"
    }
   ],
   "source": [
    "ax[0].plot(np.linspace(0, 2*np.pi, 10), np.sin(np.linspace(0, 2*np.pi, 10)))"
   ]
  },
  {
   "cell_type": "code",
   "execution_count": 19,
   "metadata": {
    "collapsed": true
   },
   "outputs": [],
   "source": [
    "from sklearn.datasets import fetch_olivetti_faces\n",
    "faces = fetch_olivetti_faces().images\n",
    "fig, ax = plt.subplots(5, 5, figsize=(5, 5))    #①\n",
    "fig.subplots_adjust(hspace=0, wspace=0)    #②\n",
    "for i in range(5):\n",
    "    for j in range(5):\n",
    "        ax[i, j].xaxis.set_major_locator(plt.NullLocator())\n",
    "        ax[i, j].yaxis.set_major_locator(plt.NullLocator())\n",
    "        ax[i, j].imshow(faces[10*i+j], cmap='bone')    #③\n"
   ]
  },
  {
   "cell_type": "code",
   "execution_count": 24,
   "metadata": {
    "collapsed": true
   },
   "outputs": [],
   "source": [
    "fig, ax = plt.subplots(3, 3, sharex='col', sharey='row')"
   ]
  },
  {
   "cell_type": "code",
   "execution_count": 21,
   "metadata": {},
   "outputs": [
    {
     "data": {
      "text/plain": [
       "(3, 3)"
      ]
     },
     "execution_count": 21,
     "metadata": {},
     "output_type": "execute_result"
    }
   ],
   "source": [
    " ax.shape"
   ]
  },
  {
   "cell_type": "code",
   "execution_count": 22,
   "metadata": {},
   "outputs": [
    {
     "data": {
      "text/plain": [
       "array([[<matplotlib.axes._subplots.AxesSubplot object at 0x7f84fd8bbcc0>,\n",
       "        <matplotlib.axes._subplots.AxesSubplot object at 0x7f84fd8f46a0>,\n",
       "        <matplotlib.axes._subplots.AxesSubplot object at 0x7f84fd845438>],\n",
       "       [<matplotlib.axes._subplots.AxesSubplot object at 0x7f84fd802d68>,\n",
       "        <matplotlib.axes._subplots.AxesSubplot object at 0x7f84fd7cff28>,\n",
       "        <matplotlib.axes._subplots.AxesSubplot object at 0x7f84fd7936d8>],\n",
       "       [<matplotlib.axes._subplots.AxesSubplot object at 0x7f84fd760588>,\n",
       "        <matplotlib.axes._subplots.AxesSubplot object at 0x7f84fd7145c0>,\n",
       "        <matplotlib.axes._subplots.AxesSubplot object at 0x7f84fd6e4b00>]], dtype=object)"
      ]
     },
     "execution_count": 22,
     "metadata": {},
     "output_type": "execute_result"
    }
   ],
   "source": [
    "ax"
   ]
  },
  {
   "cell_type": "code",
   "execution_count": 25,
   "metadata": {
    "collapsed": true
   },
   "outputs": [],
   "source": [
    "for i in range(3):\n",
    "    for j in range(3):\n",
    "        ax[i, j].text(0.5, 0.5, str((i, j)), fontsize=18, ha='center')\n"
   ]
  },
  {
   "cell_type": "code",
   "execution_count": 28,
   "metadata": {},
   "outputs": [],
   "source": [
    "for i in range(1, 7):\n",
    "    plt.subplot(2, 3, i)\n",
    "    plt.text(0.5, 0.5, str((2, 3, i)), fontsize=18, ha='center')\n"
   ]
  },
  {
   "cell_type": "code",
   "execution_count": 29,
   "metadata": {
    "collapsed": true
   },
   "outputs": [],
   "source": [
    "fig = plt.figure()\n",
    "fig.subplots_adjust(hspace=0.4, wspace=0.4)\n",
    "for i in range(1, 7):\n",
    "    ax = fig.add_subplot(2, 3, i)\n",
    "    ax.text(0.5, 0.5, str((2, 3, i)), fontsize=18, ha='center')\n"
   ]
  },
  {
   "cell_type": "code",
   "execution_count": 30,
   "metadata": {
    "collapsed": true
   },
   "outputs": [],
   "source": [
    "fig = plt.figure()\n",
    "ax1 = fig.add_axes([0.1, 0.1, 0.8, 0.8])\n",
    "ax2 = fig.add_axes([0.6, 0.5, 0.2, 0.3])\n"
   ]
  },
  {
   "cell_type": "code",
   "execution_count": 32,
   "metadata": {},
   "outputs": [
    {
     "data": {
      "text/plain": [
       "<matplotlib.axes._subplots.AxesSubplot at 0x7f84fd2b6978>"
      ]
     },
     "execution_count": 32,
     "metadata": {},
     "output_type": "execute_result"
    }
   ],
   "source": [
    "g = plt.GridSpec(3, 3, hspace=0.3, wspace=0.3)\n",
    "plt.subplot(g[0, 0])    #①\n",
    "plt.subplot(g[:2, 1:])    #②\n",
    "plt.subplot(g[1:, 0])    #③\n",
    "plt.subplot(g[2, 1:])    #④"
   ]
  },
  {
   "cell_type": "code",
   "execution_count": null,
   "metadata": {
    "collapsed": true
   },
   "outputs": [],
   "source": []
  }
 ],
 "metadata": {
  "kernelspec": {
   "display_name": "Python 3",
   "language": "python",
   "name": "python3"
  },
  "language_info": {
   "codemirror_mode": {
    "name": "ipython",
    "version": 3
   },
   "file_extension": ".py",
   "mimetype": "text/x-python",
   "name": "python",
   "nbconvert_exporter": "python",
   "pygments_lexer": "ipython3",
   "version": "3.5.2"
  }
 },
 "nbformat": 4,
 "nbformat_minor": 2
}
