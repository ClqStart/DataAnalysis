{
 "cells": [
  {
   "cell_type": "code",
   "execution_count": 1,
   "metadata": {},
   "outputs": [
    {
     "name": "stdout",
     "output_type": "stream",
     "text": [
      "Using matplotlib backend: TkAgg\n"
     ]
    }
   ],
   "source": [
    "%matplotlib\n",
    "import numpy as np\n",
    "import pandas as pd\n",
    "import matplotlib.pyplot as plt\n",
    "from mpl_toolkits import mplot3d"
   ]
  },
  {
   "cell_type": "code",
   "execution_count": 2,
   "metadata": {
    "collapsed": true
   },
   "outputs": [],
   "source": [
    "fig = plt.figure()\n",
    "ax = plt.axes(projection='3d')"
   ]
  },
  {
   "cell_type": "code",
   "execution_count": 18,
   "metadata": {
    "scrolled": true
   },
   "outputs": [
    {
     "data": {
      "text/plain": [
       "<mpl_toolkits.mplot3d.art3d.Path3DCollection at 0x7fbc5ed4e7b8>"
      ]
     },
     "execution_count": 18,
     "metadata": {},
     "output_type": "execute_result"
    }
   ],
   "source": [
    "ax = plt.axes(projection='3d')\n",
    "\n",
    "x_line = np.linspace(0, 15, 1000)\n",
    "y_line = np.sin(x_line)\n",
    "z_line = np.cos(x_line)\n",
    "ax.plot3D(x_line, y_line, z_line, 'blue')\n",
    "\n",
    "x_point = 15 * np.random.random(100)\n",
    "y_point = np.sin(x_point) + 0.1 * np.random.randn(100)\n",
    "z_point = np.cos(x_point) + 0.1 * np.random.randn(100)\n",
    "ax.scatter3D(x_point, y_point, z_point, c=x_point, cmap=\"Greens\")"
   ]
  },
  {
   "cell_type": "code",
   "execution_count": 19,
   "metadata": {
    "collapsed": true
   },
   "outputs": [],
   "source": [
    "x = np.linspace(-6, 6, 30)\n",
    "y = np.linspace(-6, 6, 30)\n",
    "X, Y = np.meshgrid(x, y)\n",
    "Z = np.sin(np.sqrt(X**2 + Y**2))\n",
    "\n",
    "fig = plt.figure()\n",
    "ax = plt.axes(projection='3d')\n",
    "ax.contour3D(X, Y, Z, 50, cmap='binary')\n",
    "ax.set_xlabel(\"x\")\n",
    "ax.set_ylabel(\"y\")\n",
    "ax.set_zlabel(\"z\")\n",
    "ax.view_init(60, 35)"
   ]
  },
  {
   "cell_type": "code",
   "execution_count": 20,
   "metadata": {
    "collapsed": true
   },
   "outputs": [],
   "source": [
    "np.meshgrid?"
   ]
  },
  {
   "cell_type": "code",
   "execution_count": 40,
   "metadata": {},
   "outputs": [
    {
     "data": {
      "text/plain": [
       "(-1, 1)"
      ]
     },
     "execution_count": 40,
     "metadata": {},
     "output_type": "execute_result"
    }
   ],
   "source": [
    "u = np.linspace(0, 2 * np.pi, 30)\n",
    "v = np.linspace(-0.5, 0.5, 8) / 2.0\n",
    "v, u = np.meshgrid(v, u)\n",
    "\n",
    "phi = 0.5 * u\n",
    "\n",
    "r = 1 + v * np.cos(phi)\n",
    "x = np.ravel(r * np.cos(u))\n",
    "y = np.ravel(r * np.sin(u))\n",
    "z = np.ravel(v * np.sin(phi))\n",
    "\n",
    "from matplotlib.tri import Triangulation\n",
    "tri = Triangulation(np.ravel(v), np.ravel(u))\n",
    "\n",
    "ax = plt.axes(projection=\"3d\")\n",
    "ax.plot_trisurf(x, y, z, triangles=tri.triangles, cmap='viridis', linewidths=0.2)\n",
    "\n",
    "ax.set_xlim(-1, 1)\n",
    "ax.set_ylim(-1, 1)\n",
    "ax.set_zlim(-1, 1)"
   ]
  },
  {
   "cell_type": "code",
   "execution_count": 41,
   "metadata": {},
   "outputs": [
    {
     "data": {
      "text/plain": [
       "[<matplotlib.lines.Line2D at 0x7fbc62e83f98>,\n",
       " <matplotlib.lines.Line2D at 0x7fbc62e83630>]"
      ]
     },
     "execution_count": 41,
     "metadata": {},
     "output_type": "execute_result"
    }
   ],
   "source": [
    "points_xy = np.array([[0.3, 0.5], [0.6, 0.8], [0.5, 0.1], [0.1, 0.2]])\n",
    "triangles = [[0, 2, 1], [2, 0 ,3]]\n",
    "triang = Triangulation(points_xy[:, 0], points_xy[:, 1], triangles=triangles)\n",
    "plt.triplot(triang, marker=\"o\")"
   ]
  },
  {
   "cell_type": "code",
   "execution_count": 43,
   "metadata": {},
   "outputs": [
    {
     "data": {
      "text/plain": [
       "<mpl_toolkits.mplot3d.art3d.Poly3DCollection at 0x7fbc5f646e80>"
      ]
     },
     "execution_count": 43,
     "metadata": {},
     "output_type": "execute_result"
    }
   ],
   "source": [
    "points_xy = np.array([[0.3, 0.5], [0.6, 0.8], [0.5, 0.1], [0.1, 0.2]])\n",
    "triangles = [[0, 2, 1], [2, 0 ,3]]\n",
    "triang = Triangulation(points_xy[:, 0], points_xy[:, 1], triangles=triangles)\n",
    "\n",
    "z = [0.1, 0.2, 0.3, 0.4]\n",
    "\n",
    "ax = plt.axes(projection=\"3d\")\n",
    "ax.plot_trisurf(triang, z)"
   ]
  },
  {
   "cell_type": "code",
   "execution_count": null,
   "metadata": {
    "collapsed": true
   },
   "outputs": [],
   "source": []
  }
 ],
 "metadata": {
  "kernelspec": {
   "display_name": "Python 3",
   "language": "python",
   "name": "python3"
  },
  "language_info": {
   "codemirror_mode": {
    "name": "ipython",
    "version": 3
   },
   "file_extension": ".py",
   "mimetype": "text/x-python",
   "name": "python",
   "nbconvert_exporter": "python",
   "pygments_lexer": "ipython3",
   "version": "3.5.2"
  }
 },
 "nbformat": 4,
 "nbformat_minor": 2
}
