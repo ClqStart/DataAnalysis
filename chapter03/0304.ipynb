{
 "cells": [
  {
   "cell_type": "code",
   "execution_count": 1,
   "metadata": {},
   "outputs": [
    {
     "name": "stdout",
     "output_type": "stream",
     "text": [
      "Using matplotlib backend: TkAgg\n"
     ]
    }
   ],
   "source": [
    "%matplotlib\n",
    "import numpy as np\n",
    "import pandas as pd\n",
    "import matplotlib.pyplot as plt"
   ]
  },
  {
   "cell_type": "code",
   "execution_count": 3,
   "metadata": {},
   "outputs": [
    {
     "data": {
      "text/plain": [
       "<Container object of 5 artists>"
      ]
     },
     "execution_count": 3,
     "metadata": {},
     "output_type": "execute_result"
    }
   ],
   "source": [
    "data = [2, 10, 4, 8, 6]\n",
    "position = [1, 2, 3, 4, 5]\n",
    "plt.bar(left=position, height=data)\n"
   ]
  },
  {
   "cell_type": "code",
   "execution_count": 4,
   "metadata": {
    "collapsed": true
   },
   "outputs": [],
   "source": [
    "data = [2, 10, 4, 8, 6]\n",
    "position = [1, 2.5, 3, 4.5, 5]\n",
    "plt.bar(left=position, height=data, width=0.4, bottom=[3, 0, 5, 0, 1])\n",
    "plt.grid(True)\n"
   ]
  },
  {
   "cell_type": "code",
   "execution_count": 5,
   "metadata": {},
   "outputs": [
    {
     "data": {
      "text/plain": [
       "<Container object of 5 artists>"
      ]
     },
     "execution_count": 5,
     "metadata": {},
     "output_type": "execute_result"
    }
   ],
   "source": [
    "data = [2, 10, 4, 8, 6]\n",
    "position = [1, 2, 3, 4, 5]\n",
    "labels = ['Pejing', 'Soochow', 'Hongkang', 'Tsingtao', 'Canton']\n",
    "plt.bar(left=position, height=data, width=0.4, \n",
    "        color='gb', edgecolor='r', linestyle='--', \n",
    "        linewidth=3, hatch='x', tick_label=labels)\n"
   ]
  },
  {
   "cell_type": "code",
   "execution_count": 6,
   "metadata": {},
   "outputs": [
    {
     "data": {
      "text/plain": [
       "<matplotlib.legend.Legend at 0x7f42b60770b8>"
      ]
     },
     "execution_count": 6,
     "metadata": {},
     "output_type": "execute_result"
    }
   ],
   "source": [
    "position = range(1, 6)\n",
    "a = np.random.random(5)\n",
    "b = np.random.random(5)\n",
    "\n",
    "plt.bar(position, a, label='a', color='b')    #①\n",
    "plt.bar(position, b, bottom=a, label='b', color='r')    #②\n",
    "\n",
    "plt.legend(loc=0)"
   ]
  },
  {
   "cell_type": "code",
   "execution_count": 7,
   "metadata": {},
   "outputs": [
    {
     "data": {
      "text/plain": [
       "<matplotlib.legend.Legend at 0x7f42b600bc50>"
      ]
     },
     "execution_count": 7,
     "metadata": {},
     "output_type": "execute_result"
    }
   ],
   "source": [
    "position = np.arange(1, 6)\n",
    "a = np.random.random(5)\n",
    "b = np.random.random(5)\n",
    "\n",
    "total_width = 0.8    #①\n",
    "n = 2\n",
    "width = total_width / n\n",
    "position = position - (total_width - width) / n    #②\n",
    "\n",
    "plt.bar(position, a, width=width, label='a', color='b')    #③\n",
    "plt.bar(position + width, b, width=width, label='b', color='r')    #④\n",
    "\n",
    "plt.legend(loc=0)\n"
   ]
  },
  {
   "cell_type": "code",
   "execution_count": 8,
   "metadata": {},
   "outputs": [
    {
     "data": {
      "text/plain": [
       "<Container object of 5 artists>"
      ]
     },
     "execution_count": 8,
     "metadata": {},
     "output_type": "execute_result"
    }
   ],
   "source": [
    "position = np.arange(1, 6)\n",
    "a = np.random.random(5)\n",
    "\n",
    "plt.barh(position, a)"
   ]
  },
  {
   "cell_type": "code",
   "execution_count": 9,
   "metadata": {},
   "outputs": [
    {
     "data": {
      "text/plain": [
       "<matplotlib.legend.Legend at 0x7f42b5f0a400>"
      ]
     },
     "execution_count": 9,
     "metadata": {},
     "output_type": "execute_result"
    }
   ],
   "source": [
    "position = np.arange(1, 6)\n",
    "a = np.random.random(5)\n",
    "b = np.random.random(5)\n",
    "\n",
    "plt.barh(position, a, color='g', label='a')\n",
    "plt.barh(position, -b, color='r', label='b')\n",
    "\n",
    "plt.legend(loc=0)\n"
   ]
  },
  {
   "cell_type": "code",
   "execution_count": 10,
   "metadata": {
    "collapsed": true
   },
   "outputs": [],
   "source": [
    "fig,ax = plt.subplots(1, 2)\n",
    "data = [1, 5, 9, 2]\n",
    "ax[0].boxplot([data])    #①\n",
    "ax[0].grid(True)\n",
    "ax[1].boxplot([data], showmeans=True)    #②\n",
    "ax[1].grid(True)\n"
   ]
  },
  {
   "cell_type": "code",
   "execution_count": 11,
   "metadata": {
    "collapsed": true
   },
   "outputs": [],
   "source": [
    "np.random.seed(12345)\n",
    "data = pd.DataFrame(np.random.rand(5,4), columns=[\"A\", 'B', 'C', 'D'])\n",
    "bp = data.boxplot(sym='r*', vert=False, meanline=False, showmeans=True)\n"
   ]
  },
  {
   "cell_type": "code",
   "execution_count": 12,
   "metadata": {
    "collapsed": true
   },
   "outputs": [],
   "source": [
    "np.random.seed(123)\n",
    "d1 = np.random.normal(100, 10, 200)\n",
    "d2 = np.random.normal(80, 30, 200)\n",
    "d3 = np.random.normal(90, 20, 200)\n",
    "d4 = np.random.normal(70, 25, 200)\n",
    "data = [d1, d2, d3, d4]\n",
    "\n",
    "fig = plt.figure(1, figsize=(9, 6))\n",
    "ax = fig.add_subplot(111)\n",
    "bp = ax.boxplot(data, patch_artist=True)\n",
    "\n",
    "for box in bp['boxes']:\n",
    "    box.set(color='#666600', linewidth=2)\n",
    "    box.set(facecolor='#CCCCCC')\n",
    "    \n",
    "for whisker in bp['whiskers']:\n",
    "    whisker.set(color='#009933', linewidth=6)\n",
    "    \n",
    "for cap in bp['caps']:\n",
    "    cap.set(color='#660066', linewidth=2)\n",
    "\n",
    "for median in bp['medians']:\n",
    "    median.set(color='#663300', linewidth=2)\n",
    "\n",
    "for flier in bp['fliers']:\n",
    "         flier.set(marker='^', color='#990033', alpha=0.5)\n"
   ]
  },
  {
   "cell_type": "code",
   "execution_count": 13,
   "metadata": {},
   "outputs": [
    {
     "data": {
      "text/plain": [
       "[<matplotlib.text.Text at 0x7f42b5bfb828>, None]"
      ]
     },
     "execution_count": 13,
     "metadata": {},
     "output_type": "execute_result"
    }
   ],
   "source": [
    "x = [2, 4, 6 ,8]\n",
    "fig, ax = plt.subplots()\n",
    "labels = ['A', 'B', 'C', 'D']\n",
    "colors = ['red', 'yellow', 'blue', 'green']\n",
    "explode = (0, 0.1, 0, 0)\n",
    "ax.pie(x, explode=explode, labels=labels, colors=colors, autopct='%1.1f%%', shadow=True, startangle=90, radius=1.2)    #①\n",
    "ax.set(aspect=\"equal\", title='Pie')  \n"
   ]
  },
  {
   "cell_type": "code",
   "execution_count": null,
   "metadata": {
    "collapsed": true
   },
   "outputs": [],
   "source": []
  }
 ],
 "metadata": {
  "kernelspec": {
   "display_name": "Python 3",
   "language": "python",
   "name": "python3"
  },
  "language_info": {
   "codemirror_mode": {
    "name": "ipython",
    "version": 3
   },
   "file_extension": ".py",
   "mimetype": "text/x-python",
   "name": "python",
   "nbconvert_exporter": "python",
   "pygments_lexer": "ipython3",
   "version": "3.5.2"
  }
 },
 "nbformat": 4,
 "nbformat_minor": 2
}
