{
 "cells": [
  {
   "cell_type": "code",
   "execution_count": 1,
   "metadata": {},
   "outputs": [
    {
     "name": "stdout",
     "output_type": "stream",
     "text": [
      "Using matplotlib backend: TkAgg\n"
     ]
    }
   ],
   "source": [
    "%matplotlib\n",
    "import numpy as np\n",
    "import pandas as pd\n",
    "import matplotlib.pyplot as plt"
   ]
  },
  {
   "cell_type": "code",
   "execution_count": 2,
   "metadata": {},
   "outputs": [
    {
     "data": {
      "text/plain": [
       "[<matplotlib.lines.Line2D at 0x7f3096fab320>]"
      ]
     },
     "execution_count": 2,
     "metadata": {},
     "output_type": "execute_result"
    }
   ],
   "source": [
    "x = np.linspace(0, 2*np.pi, 100)\n",
    "plt.plot(x, np.sin(x), color='blue')\n",
    "plt.plot(x, np.sin(x-np.pi/3), color='r')\n",
    "plt.plot(x, np.sin(x-2*np.pi/3), color='#A52A2A')"
   ]
  },
  {
   "cell_type": "code",
   "execution_count": 3,
   "metadata": {},
   "outputs": [
    {
     "data": {
      "text/plain": [
       "[<matplotlib.lines.Line2D at 0x7f305956bfd0>]"
      ]
     },
     "execution_count": 3,
     "metadata": {},
     "output_type": "execute_result"
    }
   ],
   "source": [
    "plt.plot(x, 2*x, linestyle=\"dashdot\")\n",
    "plt.plot(x, -2*x + 2, linestyle=\":\")"
   ]
  },
  {
   "cell_type": "code",
   "execution_count": 4,
   "metadata": {},
   "outputs": [
    {
     "data": {
      "text/plain": [
       "[<matplotlib.lines.Line2D at 0x7f305e5cbef0>]"
      ]
     },
     "execution_count": 4,
     "metadata": {},
     "output_type": "execute_result"
    }
   ],
   "source": [
    "plt.plot(x, np.sin(x), linestyle=\"-.\", color='blue')\n",
    "plt.plot(x, np.cos(x), linestyle=\":\", color='black')"
   ]
  },
  {
   "cell_type": "code",
   "execution_count": 6,
   "metadata": {
    "collapsed": true
   },
   "outputs": [],
   "source": [
    "plt.plot(range(10), linestyle='--', marker='o', markersize=16, markerfacecolor='b', color='r') \n",
    "plt.grid(True)"
   ]
  },
  {
   "cell_type": "code",
   "execution_count": 7,
   "metadata": {
    "collapsed": true
   },
   "outputs": [],
   "source": [
    "plt.plot(range(10), '--or', markersize=16, markerfacecolor='b')\n",
    "plt.grid(True)\n"
   ]
  },
  {
   "cell_type": "code",
   "execution_count": 8,
   "metadata": {
    "collapsed": true
   },
   "outputs": [],
   "source": [
    "plt.plot(range(10), '-Dr', markersize=16, markerfacecolor='b', markevery=[2,4,6])\n",
    "plt.grid(True)"
   ]
  },
  {
   "cell_type": "code",
   "execution_count": 9,
   "metadata": {
    "collapsed": true
   },
   "outputs": [],
   "source": [
    " x = np.linspace(-np.pi, np.pi, 9)\n",
    "plt.plot(x, np.sin(x), 'Dr', markersize=16, markerfacecolor='b', markevery=[2,4,6])\n",
    "plt.plot(x, np.cos(x), 'hr', markersize=16, markerfacecolor='m')\n",
    "plt.grid(True)"
   ]
  },
  {
   "cell_type": "code",
   "execution_count": 10,
   "metadata": {},
   "outputs": [
    {
     "data": {
      "text/plain": [
       "[<matplotlib.lines.Line2D at 0x7f30592f6f28>]"
      ]
     },
     "execution_count": 10,
     "metadata": {},
     "output_type": "execute_result"
    }
   ],
   "source": [
    "x = np.linspace(-np.pi, np.pi, 9)\n",
    "plt.plot(x, np.cos(x), linewidth=8)"
   ]
  },
  {
   "cell_type": "code",
   "execution_count": 11,
   "metadata": {},
   "outputs": [
    {
     "data": {
      "text/plain": [
       "<matplotlib.legend.Legend at 0x7f305926f6a0>"
      ]
     },
     "execution_count": 11,
     "metadata": {},
     "output_type": "execute_result"
    }
   ],
   "source": [
    "a = np.arange(0, 3, .02)\n",
    "b = np.arange(0, 3, .02)\n",
    "c = np.exp(a)\n",
    "d = c[::-1]\n",
    "plt.plot(a, c, 'k--', label=\"Model\")\n",
    "plt.plot(a, d, 'r:', label=\"Data\")\n",
    "plt.plot(a, c+d, 'b-', label=\"Total\")\n",
    "plt.legend(loc='upper right')\n"
   ]
  },
  {
   "cell_type": "code",
   "execution_count": 12,
   "metadata": {},
   "outputs": [
    {
     "data": {
      "text/plain": [
       "<matplotlib.legend.Legend at 0x7f30591f7ef0>"
      ]
     },
     "execution_count": 12,
     "metadata": {},
     "output_type": "execute_result"
    }
   ],
   "source": [
    "a = np.arange(0, 3, .02)\n",
    "b = np.arange(0, 3, .02)\n",
    "c = np.exp(a)\n",
    "d = c[::-1]\n",
    "line1, = plt.plot(a, c, 'k--', label=\"Model\")    #①\n",
    "line2 =plt.plot(a, d, 'r:', label=\"Data\")[0]     #②\n",
    "line3, =plt.plot(a, c+d, 'b-', label=\"Total\")\n",
    "plt.legend((line1, line2), loc=0)    #③"
   ]
  },
  {
   "cell_type": "code",
   "execution_count": 13,
   "metadata": {},
   "outputs": [
    {
     "data": {
      "text/plain": [
       "<matplotlib.legend.Legend at 0x7f3059174c88>"
      ]
     },
     "execution_count": 13,
     "metadata": {},
     "output_type": "execute_result"
    }
   ],
   "source": [
    "plt.plot([0,1,2,3,4,5], label=\"positive\")\n",
    "plt.plot([5,4,3,2,1,0], label=\"negative\")\n",
    "plt.legend(bbox_to_anchor=(0, 1), loc=3, ncol=2)\n"
   ]
  },
  {
   "cell_type": "code",
   "execution_count": 15,
   "metadata": {},
   "outputs": [
    {
     "data": {
      "text/plain": [
       "<matplotlib.legend.Legend at 0x7f3058f9ba58>"
      ]
     },
     "execution_count": 15,
     "metadata": {},
     "output_type": "execute_result"
    }
   ],
   "source": [
    "x = np.linspace(0, 10, 1000)\n",
    "fig, ax = plt.subplots(2, 2)    #创建2×2的子图对象\n",
    "      \n",
    "#在每个分区的Axes对象中绘制曲线\n",
    "for i in range(2):\n",
    "    for j in range(2):\n",
    "        ax[i, j].axis('equal')\n",
    "        line1, = ax[i, j].plot(x, np.sin(x), '-b', label='sin(x)')\n",
    "        line2, = ax[i, j].plot(x, np.cos(x), '--r', label='cos(x)')\n",
    "\n",
    "#创建不同形式的图例\n",
    "ax[0, 0].legend(loc='upper right', frameon=False, fontsize=20)\n",
    "ax[0, 1].legend(loc='lower center', frameon=False, ncol=2, fontsize='large')\n",
    "ax[1, 0].legend(fancybox=True, framealpha=1, shadow=True, borderpad=1,  fontsize='x-large')\n",
    "ax[1, 1].legend(handles=[line1], loc='upper right', fontsize='xx-large')    #创建第一个图例\n",
    "\n",
    "from matplotlib.legend import Legend    #①\n",
    "#创建Legend类实例对象\n",
    "leg = Legend(ax[1, 1], [line2], ['cos(x)'], loc='lower right',  fontsize=20)    \n",
    "ax[1, 1].add_artist(leg)    #②增加第二个图例\n"
   ]
  },
  {
   "cell_type": "code",
   "execution_count": 16,
   "metadata": {},
   "outputs": [
    {
     "data": {
      "text/plain": [
       "<matplotlib.colorbar.Colorbar at 0x7f3058ea6128>"
      ]
     },
     "execution_count": 16,
     "metadata": {},
     "output_type": "execute_result"
    }
   ],
   "source": [
    "rng = np.random.RandomState(0)    #①\n",
    "x = rng.randn(100)    #②\n",
    "y = rng.randn(100)\n",
    "colors = rng.rand(100)    #③\n",
    "sizes = 1000 * rng.rand(100)\n",
    "plt.scatter(x, y, c=colors, s=sizes, alpha=0.3)    #④\n",
    "plt.colorbar()    #⑤"
   ]
  },
  {
   "cell_type": "code",
   "execution_count": 17,
   "metadata": {},
   "outputs": [
    {
     "data": {
      "text/plain": [
       "<matplotlib.text.Text at 0x7f3058e3c748>"
      ]
     },
     "execution_count": 17,
     "metadata": {},
     "output_type": "execute_result"
    }
   ],
   "source": [
    "cities = pd.read_csv(\"/home/qiwsir/Documents/DataAnalysis/chapter03/city_population.csv\")\n",
    "lat = cities['latd']\n",
    "lon = cities['longd']\n",
    "population = cities['population'],\n",
    "area = cities['area']\n",
    "\n",
    "plt.scatter(lon, lat, label=None, c=np.log10(population), \n",
    "cmap='viridis', s=area, linewidth=0, alpha=0.5)    \n",
    "plt.axis(aspect='equal')\n",
    "plt.xlabel(\"longitude\")\n",
    "plt.ylabel('latitude')\n",
    "plt.colorbar(label='log$_{10}$(population)')    #①\n",
    "\n",
    "for area in [100, 300, 500]:\n",
    "    plt.scatter([], [], c='k', alpha=0.3, s=area, label=str(area) + ' km$^2$')\n",
    "\n",
    "plt.legend(scatterpoints=1, frameon=False, labelspacing=1, title='City Area')\n",
    "\n",
    "plt.title('Jiangsu Cities: Area and Population')    #②\n"
   ]
  },
  {
   "cell_type": "code",
   "execution_count": null,
   "metadata": {
    "collapsed": true
   },
   "outputs": [],
   "source": []
  }
 ],
 "metadata": {
  "kernelspec": {
   "display_name": "Python 3",
   "language": "python",
   "name": "python3"
  },
  "language_info": {
   "codemirror_mode": {
    "name": "ipython",
    "version": 3
   },
   "file_extension": ".py",
   "mimetype": "text/x-python",
   "name": "python",
   "nbconvert_exporter": "python",
   "pygments_lexer": "ipython3",
   "version": "3.5.2"
  }
 },
 "nbformat": 4,
 "nbformat_minor": 2
}
