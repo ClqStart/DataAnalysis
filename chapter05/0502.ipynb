{
 "cells": [
  {
   "cell_type": "code",
   "execution_count": 1,
   "metadata": {},
   "outputs": [
    {
     "name": "stdout",
     "output_type": "stream",
     "text": [
      "Using matplotlib backend: TkAgg\n"
     ]
    }
   ],
   "source": [
    "%matplotlib\n",
    "import numpy as np\n",
    "import pandas as pd\n",
    "import matplotlib.pyplot as plt\n",
    "\n",
    "pg = pd.read_csv(\"/home/qiwsir/Documents/DataAnalysis/chapter05/train_passengers.csv\")\n",
    "pg['date'] = pd.to_datetime(pg['date'])\n",
    "\n",
    "fig, ax = plt.subplots()\n",
    "ax.plot(pg.date, pg.number, color='red', marker=\"o\", markerfacecolor='b')\n",
    "ax.xaxis_date()"
   ]
  },
  {
   "cell_type": "code",
   "execution_count": 2,
   "metadata": {},
   "outputs": [
    {
     "name": "stderr",
     "output_type": "stream",
     "text": [
      "/usr/local/lib/python3.5/dist-packages/scipy/linalg/basic.py:223: RuntimeWarning: scipy.linalg.solve\n",
      "Ill-conditioned matrix detected. Result is not guaranteed to be accurate.\n",
      "Reciprocal condition number: 1.0470096440006632e-17\n",
      "  ' condition number: {}'.format(rcond), RuntimeWarning)\n"
     ]
    },
    {
     "data": {
      "text/plain": [
       "array([[ 1.        ,  0.64958439],\n",
       "       [ 0.64958439,  1.        ]])"
      ]
     },
     "execution_count": 2,
     "metadata": {},
     "output_type": "execute_result"
    }
   ],
   "source": [
    "from sklearn.preprocessing import PolynomialFeatures\n",
    "from sklearn.linear_model import Ridge     #①\n",
    "from sklearn.pipeline import make_pipeline\n",
    "\n",
    "pg['date'] = pd.to_datetime(pg['date'], unit='s')    #②\n",
    "pg['stamp'] = [t.value//10**9 for t in pg.date]     #③\n",
    "\n",
    "model = make_pipeline(PolynomialFeatures(degree=9), Ridge())   #④\n",
    "model.fit(pg.stamp[:, np.newaxis], pg['number'])    #⑤\n",
    "pg_pred = model.predict(pg.stamp[:, np.newaxis])     #⑥\n",
    "\n",
    "np.corrcoef(pg_pred, pg['number'])     #⑦\n"
   ]
  },
  {
   "cell_type": "code",
   "execution_count": 3,
   "metadata": {},
   "outputs": [
    {
     "data": {
      "text/plain": [
       "<matplotlib.legend.Legend at 0x7f5d7144dda0>"
      ]
     },
     "execution_count": 3,
     "metadata": {},
     "output_type": "execute_result"
    }
   ],
   "source": [
    "fig, ax = plt.subplots()\n",
    "ax.plot(pg.stamp, pg['number'], color='red', marker=\"o\", \n",
    "markerfacecolor='r', label=\"passengers\")\n",
    "ax.plot(pg.stamp, pg_pred, color='blue', label=\"line of model\")\n",
    "ax.legend()\n"
   ]
  },
  {
   "cell_type": "code",
   "execution_count": 5,
   "metadata": {},
   "outputs": [
    {
     "data": {
      "text/plain": [
       "<matplotlib.collections.PathCollection at 0x7f5d7124c390>"
      ]
     },
     "execution_count": 5,
     "metadata": {},
     "output_type": "execute_result"
    }
   ],
   "source": [
    "bluegills = pd.read_csv(\"/home/qiwsir/Documents/DataAnalysis/chapter05/bluegills.txt\", \n",
    "                        sep=\"\\t\")\n",
    "plt.scatter(bluegills['age'], bluegills['length'])\n"
   ]
  },
  {
   "cell_type": "code",
   "execution_count": 6,
   "metadata": {},
   "outputs": [
    {
     "name": "stderr",
     "output_type": "stream",
     "text": [
      "/usr/local/lib/python3.5/dist-packages/ipykernel_launcher.py:8: FutureWarning: reshape is deprecated and will raise in a subsequent release. Please use .values.reshape(...) instead\n",
      "  \n"
     ]
    },
    {
     "data": {
      "text/plain": [
       "array([ 13.62237616,  54.04931191,  -4.71866479])"
      ]
     },
     "execution_count": 6,
     "metadata": {},
     "output_type": "execute_result"
    }
   ],
   "source": [
    "from sklearn.preprocessing import PolynomialFeatures\n",
    "from sklearn.linear_model import LinearRegression\n",
    "\n",
    "bluegills = pd.read_csv(\"/home/qiwsir/Documents/data_analysis/chapter05/bluegills.txt\", \n",
    "sep=\"\\t\")\n",
    "\n",
    "feature_2 = PolynomialFeatures(degree=2)    #①\n",
    "age_2 = feature_2.fit_transform(bluegills['age'].reshape(-1, 1))    #②\n",
    "\n",
    "regressor_2 = LinearRegression(fit_intercept=False)    #③\n",
    "regressor_2.fit(age_2, bluegills['length'])    #④\n",
    "\n",
    "year = bluegills.age.unique()\n",
    "year_2 = feature_2.transform(year[:, None])    #⑤\n",
    "\n",
    "length_pred = regressor_2.predict(year_2)     #⑥\n",
    "\n",
    "fig, ax = plt.subplots()\n",
    "ax.scatter(bluegills.age, bluegills.length, color='red')\n",
    "ax.plot(year, length_pred, color='blue')\n",
    "\n",
    "regressor_2.coef_    #⑦\n"
   ]
  },
  {
   "cell_type": "code",
   "execution_count": 7,
   "metadata": {},
   "outputs": [
    {
     "name": "stderr",
     "output_type": "stream",
     "text": [
      "/usr/local/lib/python3.5/dist-packages/statsmodels/compat/pandas.py:56: FutureWarning: The pandas.core.datetools module is deprecated and will be removed in a future version. Please use the pandas.tseries module instead.\n",
      "  from pandas.core import datetools\n"
     ]
    },
    {
     "data": {
      "image/png": "[encoded data removed]",
      "text/plain": [
       "<matplotlib.figure.Figure at 0x7f5d711d4b38>"
      ]
     },
     "execution_count": 7,
     "metadata": {},
     "output_type": "execute_result"
    }
   ],
   "source": [
    "import statsmodels.graphics.api as smg\n",
    "fig, ax = plt.subplots()\n",
    "length_pred2 = regressor_2.predict(feature_2.transform(bluegills.age[:, np.newaxis]))\n",
    "resid = length_pred2 - bluegills.length\n",
    "smg.qqplot(resid, ax=ax)\n"
   ]
  },
  {
   "cell_type": "code",
   "execution_count": null,
   "metadata": {
    "collapsed": true
   },
   "outputs": [],
   "source": []
  }
 ],
 "metadata": {
  "kernelspec": {
   "display_name": "Python 3",
   "language": "python",
   "name": "python3"
  },
  "language_info": {
   "codemirror_mode": {
    "name": "ipython",
    "version": 3
   },
   "file_extension": ".py",
   "mimetype": "text/x-python",
   "name": "python",
   "nbconvert_exporter": "python",
   "pygments_lexer": "ipython3",
   "version": "3.5.2"
  }
 },
 "nbformat": 4,
 "nbformat_minor": 2
}
