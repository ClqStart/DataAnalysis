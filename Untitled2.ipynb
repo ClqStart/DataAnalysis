{
 "cells": [
  {
   "cell_type": "code",
   "execution_count": 1,
   "metadata": {},
   "outputs": [
    {
     "name": "stdout",
     "output_type": "stream",
     "text": [
      "Using matplotlib backend: TkAgg\n"
     ]
    }
   ],
   "source": [
    "%matplotlib\n",
    "import numpy as np\n",
    "import pandas as pd\n",
    "import matplotlib.pyplot as plt"
   ]
  },
  {
   "cell_type": "code",
   "execution_count": 2,
   "metadata": {},
   "outputs": [
    {
     "data": {
      "text/html": [
       "<div>\n",
       "<style>\n",
       "    .dataframe thead tr:only-child th {\n",
       "        text-align: right;\n",
       "    }\n",
       "\n",
       "    .dataframe thead th {\n",
       "        text-align: left;\n",
       "    }\n",
       "\n",
       "    .dataframe tbody tr th {\n",
       "        vertical-align: top;\n",
       "    }\n",
       "</style>\n",
       "<table border=\"1\" class=\"dataframe\">\n",
       "  <thead>\n",
       "    <tr style=\"text-align: right;\">\n",
       "      <th></th>\n",
       "      <th>number</th>\n",
       "      <th>percent</th>\n",
       "    </tr>\n",
       "  </thead>\n",
       "  <tbody>\n",
       "    <tr>\n",
       "      <th>0</th>\n",
       "      <td>1</td>\n",
       "      <td>0.311404</td>\n",
       "    </tr>\n",
       "    <tr>\n",
       "      <th>2</th>\n",
       "      <td>2</td>\n",
       "      <td>0.131579</td>\n",
       "    </tr>\n",
       "    <tr>\n",
       "      <th>1</th>\n",
       "      <td>3</td>\n",
       "      <td>0.131579</td>\n",
       "    </tr>\n",
       "    <tr>\n",
       "      <th>4</th>\n",
       "      <td>4</td>\n",
       "      <td>0.100877</td>\n",
       "    </tr>\n",
       "    <tr>\n",
       "      <th>3</th>\n",
       "      <td>5</td>\n",
       "      <td>0.105263</td>\n",
       "    </tr>\n",
       "    <tr>\n",
       "      <th>5</th>\n",
       "      <td>6</td>\n",
       "      <td>0.070175</td>\n",
       "    </tr>\n",
       "    <tr>\n",
       "      <th>8</th>\n",
       "      <td>7</td>\n",
       "      <td>0.048246</td>\n",
       "    </tr>\n",
       "    <tr>\n",
       "      <th>6</th>\n",
       "      <td>8</td>\n",
       "      <td>0.052632</td>\n",
       "    </tr>\n",
       "    <tr>\n",
       "      <th>7</th>\n",
       "      <td>9</td>\n",
       "      <td>0.048246</td>\n",
       "    </tr>\n",
       "  </tbody>\n",
       "</table>\n",
       "</div>"
      ],
      "text/plain": [
       "   number   percent\n",
       "0       1  0.311404\n",
       "2       2  0.131579\n",
       "1       3  0.131579\n",
       "4       4  0.100877\n",
       "3       5  0.105263\n",
       "5       6  0.070175\n",
       "8       7  0.048246\n",
       "6       8  0.052632\n",
       "7       9  0.048246"
      ]
     },
     "execution_count": 2,
     "metadata": {},
     "output_type": "execute_result"
    }
   ],
   "source": [
    "pop_world = pd.read_csv(\"/home/qiwsir/Documents/data_analysis/chapter04/population_world.csv\")\n",
    "num = pop_world['number'].map(str).map(lambda x: x[0])    #①\n",
    "num = num.map(int)\n",
    "counts = num.value_counts() / 228     #②\n",
    "r = pd.DataFrame({\"number\": counts.index, 'percent': counts.values})\n",
    "r.sort_values('number')"
   ]
  },
  {
   "cell_type": "code",
   "execution_count": 3,
   "metadata": {},
   "outputs": [
    {
     "data": {
      "text/plain": [
       "([<matplotlib.axis.XTick at 0x7fa9a0e64630>,\n",
       "  <matplotlib.axis.XTick at 0x7fa9a0e72f98>,\n",
       "  <matplotlib.axis.XTick at 0x7fa9a0e1aef0>,\n",
       "  <matplotlib.axis.XTick at 0x7fa9a0e38f98>,\n",
       "  <matplotlib.axis.XTick at 0x7fa9a0dca9e8>,\n",
       "  <matplotlib.axis.XTick at 0x7fa9a0dcf438>,\n",
       "  <matplotlib.axis.XTick at 0x7fa9a0dcfe48>,\n",
       "  <matplotlib.axis.XTick at 0x7fa9a0dd2898>,\n",
       "  <matplotlib.axis.XTick at 0x7fa9a0dd52e8>],\n",
       " <a list of 9 Text xticklabel objects>)"
      ]
     },
     "execution_count": 3,
     "metadata": {},
     "output_type": "execute_result"
    }
   ],
   "source": [
    "plt.bar(r['number'], r['percent'])\n",
    "plt.grid(True)\n",
    "plt.xticks(r['number'])"
   ]
  },
  {
   "cell_type": "code",
   "execution_count": 5,
   "metadata": {},
   "outputs": [],
   "source": [
    "benford = pd.DataFrame({\"number\": [1,2,3,4,5,6,7,8,9], 'percent': [0.301, 0.176, 0.125, 0.097, 0.079, 0.067, 0.058, 0.051, 0.046]})\n",
    "position = benford['number'] - 0.2\n",
    "plt.bar(position, r['percent'], width=0.4, label='population', color='b')\n",
    "plt.bar(position+0.4, benford['percent'], width=0.4, label='benford', color='y')\n",
    "plt.xticks(benford['number'])\n",
    "plt.grid(True)"
   ]
  },
  {
   "cell_type": "code",
   "execution_count": 30,
   "metadata": {},
   "outputs": [
    {
     "data": {
      "text/plain": [
       "Date         485\n",
       "Open         485\n",
       "High         485\n",
       "Low          485\n",
       "Close        485\n",
       "Adj Close    485\n",
       "Volume       485\n",
       "dtype: int64"
      ]
     },
     "execution_count": 30,
     "metadata": {},
     "output_type": "execute_result"
    }
   ],
   "source": [
    "aapl = pd.read_csv(\"/home/qiwsir/Documents/data_analysis/chapter04/AAPL.csv\")\n",
    "aapl.count()"
   ]
  },
  {
   "cell_type": "code",
   "execution_count": 15,
   "metadata": {},
   "outputs": [],
   "source": [
    "aaple_close = aapl['Volume']"
   ]
  },
  {
   "cell_type": "code",
   "execution_count": 16,
   "metadata": {},
   "outputs": [
    {
     "data": {
      "text/plain": [
       "[12.577319587628866,\n",
       " 43.91752577319588,\n",
       " 22.061855670103093,\n",
       " 11.134020618556702,\n",
       " 4.536082474226804,\n",
       " 3.0927835051546393,\n",
       " 1.8556701030927836,\n",
       " 0.6185567010309279,\n",
       " 0.2061855670103093]"
      ]
     },
     "execution_count": 16,
     "metadata": {},
     "output_type": "execute_result"
    }
   ],
   "source": [
    "def calc_firstdigit(dataset):\n",
    "    fdigit = [str(value)[:1] for value in dataset]\n",
    "    distr = [fdigit.count(str(i))/float(len(dataset))*100 for i in range(1, 10)]\n",
    "    return distr\n",
    "r = calc_firstdigit(aaple_close)\n",
    "r"
   ]
  },
  {
   "cell_type": "code",
   "execution_count": 28,
   "metadata": {},
   "outputs": [
    {
     "data": {
      "text/plain": [
       "<matplotlib.legend.Legend at 0x7fa98b49a320>"
      ]
     },
     "execution_count": 28,
     "metadata": {},
     "output_type": "execute_result"
    }
   ],
   "source": [
    "import math\n",
    "def benford_law():\n",
    "    return [math.log10(1+1/float(i))*100.0 for i in range(1,10)]\n",
    "benford = benford_law()\n",
    "fig, ax = plt.subplots()\n",
    "ax.plot([1,2,3,4,5,6,7,8,9], r, label='AAPL')\n",
    "ax.plot([1,2,3,4,5,6,7,8,9], benford, label='Benford')\n",
    "plt.legend()"
   ]
  },
  {
   "cell_type": "code",
   "execution_count": 29,
   "metadata": {},
   "outputs": [
    {
     "data": {
      "text/plain": [
       "[30.10299956639812,\n",
       " 17.609125905568124,\n",
       " 12.493873660829992,\n",
       " 9.691001300805642,\n",
       " 7.918124604762482,\n",
       " 6.694678963061322,\n",
       " 5.799194697768673,\n",
       " 5.115252244738129,\n",
       " 4.575749056067514]"
      ]
     },
     "execution_count": 29,
     "metadata": {},
     "output_type": "execute_result"
    }
   ],
   "source": [
    "import math\n",
    "benford = [math.log10(1+1/float(i))*100.0 for i in range(1,10)]\n",
    "\n",
    "benford"
   ]
  },
  {
   "cell_type": "code",
   "execution_count": 21,
   "metadata": {},
   "outputs": [
    {
     "data": {
      "text/plain": [
       "(0.52842273214202418, 0.14359938153082782)"
      ]
     },
     "execution_count": 21,
     "metadata": {},
     "output_type": "execute_result"
    }
   ],
   "source": [
    "from scipy.stats import pearsonr\n",
    "r_row, p_value = pearsonr(benford, r)\n",
    "r_row, p_value"
   ]
  },
  {
   "cell_type": "code",
   "execution_count": 23,
   "metadata": {},
   "outputs": [
    {
     "data": {
      "text/plain": [
       "[24.95742023390485,\n",
       " 17.361189962529807,\n",
       " 13.795844214829115,\n",
       " 11.29783127058022,\n",
       " 9.378903145225388,\n",
       " 7.584875667083002,\n",
       " 5.949812649029181,\n",
       " 5.09821732712615,\n",
       " 4.575905529692291]"
      ]
     },
     "execution_count": 23,
     "metadata": {},
     "output_type": "execute_result"
    }
   ],
   "source": [
    "aapl_long = pd.read_csv(\"/home/qiwsir/Documents/data_analysis/chapter04/AAPL-long.csv\")\n",
    "aapl_long_volume = aapl_long['Volume']\n",
    "r_long = calc_firstdigit(aapl_long_volume)\n",
    "r_long"
   ]
  },
  {
   "cell_type": "code",
   "execution_count": 24,
   "metadata": {},
   "outputs": [
    {
     "data": {
      "text/plain": [
       "(0.98334614975620205, 1.9310143433410221e-06)"
      ]
     },
     "execution_count": 24,
     "metadata": {},
     "output_type": "execute_result"
    }
   ],
   "source": [
    "r_row, p_value = pearsonr(benford, r_long)\n",
    "r_row, p_value"
   ]
  },
  {
   "cell_type": "code",
   "execution_count": 26,
   "metadata": {},
   "outputs": [
    {
     "data": {
      "text/plain": [
       "0.9833461497562022"
      ]
     },
     "execution_count": 26,
     "metadata": {},
     "output_type": "execute_result"
    }
   ],
   "source": [
    "def pearson(x,y):\n",
    "   nx = len(x)\n",
    "   ny = len(y)\n",
    "   if nx != ny: return 0\n",
    "   if nx == 0: return 0\n",
    "   n = float(nx)\n",
    "   meanx = sum(x)/n\n",
    "   meany = sum(y)/n\n",
    "   sdx = math.sqrt(sum([(a-meanx)*(a-meanx) for a in x])/(n-1) )\n",
    "   sdy = math.sqrt(sum([(a-meany)*(a-meany) for a in y])/(n-1) )\n",
    "   normx = [(a-meanx)/sdx for a in x]\n",
    "   normy = [(a-meany)/sdy for a in y]\n",
    "   return sum([normx[i]*normy[i] for i in range(nx)])/(n-1)\n",
    "pearson(benford, r_long)"
   ]
  },
  {
   "cell_type": "code",
   "execution_count": 31,
   "metadata": {
    "collapsed": true
   },
   "outputs": [],
   "source": [
    "def calc_firstdigit(dataset):\n",
    "    fdigit = [str(value)[:1] for value in dataset]\n",
    "    distr = [fdigit.count(str(i))/float(len(dataset))*100 for i in range(1, 10)]\n",
    "    return distr"
   ]
  },
  {
   "cell_type": "code",
   "execution_count": 32,
   "metadata": {
    "collapsed": true
   },
   "outputs": [],
   "source": [
    "import math\n",
    "benford = [math.log10(1+1/float(i))*100.0 for i in range(1,10)]"
   ]
  },
  {
   "cell_type": "code",
   "execution_count": 38,
   "metadata": {},
   "outputs": [],
   "source": [
    "aapl_volume = aapl['Volume']\n",
    "aapl_calc = calc_firstdigit(aapl_volume)\n",
    "\n",
    "fig, ax = plt.subplots()\n",
    "ax.plot([1,2,3,4,5,6,7,8,9], aapl_calc, label='AAPL')\n",
    "ax.plot([1,2,3,4,5,6,7,8,9], benford, label='Benford')\n",
    "plt.legend()\n",
    "plt.grid(True)"
   ]
  },
  {
   "cell_type": "code",
   "execution_count": 39,
   "metadata": {},
   "outputs": [
    {
     "data": {
      "text/plain": [
       "(0.52842273214202418, 0.14359938153082782)"
      ]
     },
     "execution_count": 39,
     "metadata": {},
     "output_type": "execute_result"
    }
   ],
   "source": [
    "from scipy.stats import pearsonr\n",
    "r_row, p_value = pearsonr(benford, aapl_calc)\n",
    "r_row, p_value"
   ]
  },
  {
   "cell_type": "code",
   "execution_count": 40,
   "metadata": {},
   "outputs": [
    {
     "data": {
      "text/plain": [
       "8807"
      ]
     },
     "execution_count": 40,
     "metadata": {},
     "output_type": "execute_result"
    }
   ],
   "source": [
    "aapl_long = pd.read_csv(\"/home/qiwsir/Documents/data_analysis/chapter04/AAPL-long.csv\")\n",
    "aapl_long_volume = aapl_long['Volume']\n",
    "aapl_long_volume.count()"
   ]
  },
  {
   "cell_type": "code",
   "execution_count": 41,
   "metadata": {},
   "outputs": [
    {
     "data": {
      "text/plain": [
       "(0.98334614975620205, 1.9310143433410221e-06)"
      ]
     },
     "execution_count": 41,
     "metadata": {},
     "output_type": "execute_result"
    }
   ],
   "source": [
    "aapl_long_calc = calc_firstdigit(aapl_long_volume)\n",
    "r2_row, p2_value = pearsonr(benford, aapl_long_calc)\n",
    "r2_row, p2_value"
   ]
  },
  {
   "cell_type": "code",
   "execution_count": 42,
   "metadata": {
    "collapsed": true
   },
   "outputs": [],
   "source": [
    "fig, ax = plt.subplots()\n",
    "ax.plot([1,2,3,4,5,6,7,8,9], aapl_long_calc, label='AAPL')\n",
    "ax.plot([1,2,3,4,5,6,7,8,9], benford, label='Benford')\n",
    "plt.legend()\n",
    "plt.grid(True)"
   ]
  },
  {
   "cell_type": "code",
   "execution_count": null,
   "metadata": {
    "collapsed": true
   },
   "outputs": [],
   "source": []
  }
 ],
 "metadata": {
  "kernelspec": {
   "display_name": "Python 3",
   "language": "python",
   "name": "python3"
  },
  "language_info": {
   "codemirror_mode": {
    "name": "ipython",
    "version": 3
   },
   "file_extension": ".py",
   "mimetype": "text/x-python",
   "name": "python",
   "nbconvert_exporter": "python",
   "pygments_lexer": "ipython3",
   "version": "3.5.2"
  }
 },
 "nbformat": 4,
 "nbformat_minor": 2
}
