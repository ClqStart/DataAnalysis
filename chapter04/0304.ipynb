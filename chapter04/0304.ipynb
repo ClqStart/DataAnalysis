{
 "cells": [
  {
   "cell_type": "code",
   "execution_count": 1,
   "metadata": {},
   "outputs": [
    {
     "name": "stdout",
     "output_type": "stream",
     "text": [
      "Using matplotlib backend: TkAgg\n"
     ]
    }
   ],
   "source": [
    "%matplotlib\n",
    "import numpy as np\n",
    "import pandas as pd\n",
    "import matplotlib.pyplot as plt"
   ]
  },
  {
   "cell_type": "code",
   "execution_count": 2,
   "metadata": {
    "collapsed": true
   },
   "outputs": [],
   "source": [
    "from mpl_toolkits.basemap import Basemap"
   ]
  },
  {
   "cell_type": "code",
   "execution_count": 3,
   "metadata": {},
   "outputs": [
    {
     "data": {
      "text/plain": [
       "<matplotlib.text.Text at 0x7fce55785cc0>"
      ]
     },
     "execution_count": 3,
     "metadata": {},
     "output_type": "execute_result"
    }
   ],
   "source": [
    "from mpl_toolkits.basemap import Basemap    #①\n",
    "fig = plt.figure(figsize=(8, 8))\n",
    "m = Basemap(projection='lcc', resolution=None, \n",
    "width=8E6, height=8E6, lat_0=30, lon_0=120)    #②\n",
    "m.etopo(scale=0.5, alpha=0.5)    #③\n",
    "\n",
    "x, y = m(120.7, 31.3)    #④\n",
    "plt.plot(x, y, 'ok', markersize=5)    #⑤\n",
    "plt.text(x, y, ' Soochow', fontsize=12)    #⑥"
   ]
  },
  {
   "cell_type": "code",
   "execution_count": 4,
   "metadata": {},
   "outputs": [
    {
     "data": {
      "text/plain": [
       "<matplotlib.legend.Legend at 0x7fce555097f0>"
      ]
     },
     "execution_count": 4,
     "metadata": {},
     "output_type": "execute_result"
    }
   ],
   "source": [
    "cities = pd.read_csv(\"/home/qiwsir/Documents/DataAnalysis/chapter03/city_population.csv\")\n",
    "lat = cities['latd'].values\n",
    "lon = cities['longd'].values\n",
    "population = cities['population'].values\n",
    "area = cities['area'].values/10\n",
    "\n",
    "fig = plt.figure(figsize=(8, 8))\n",
    "m = Basemap(projection='lcc', width=5E5, height=6E5, lat_0=32.9, lon_0=119.2,resolution='h')\n",
    "m.shadedrelief()    #设置地形图效果\n",
    "m.drawcoastlines(color='gray')    #描绘海岸线\n",
    "\n",
    "#画散点图\n",
    "m.scatter(lon, lat, latlon=True, c=np.log10(population), s=area, cmap='Reds', alpha=0.5)\n",
    "\n",
    "plt.colorbar(label='log$_{10}$(population)')\n",
    "\n",
    "for area in [100, 300, 500]:\n",
    "    plt.scatter([], [], c='k', alpha=0.3, s=area, label=str(area) + ' km$^2$')\n",
    "\n",
    "plt.legend(scatterpoints=1, frameon=False, labelspacing=1, title='City Area')"
   ]
  },
  {
   "cell_type": "code",
   "execution_count": 5,
   "metadata": {
    "collapsed": true
   },
   "outputs": [],
   "source": [
    "import geopandas as gp\n",
    "#从shp文件中读取中国政区地理数据\n",
    "cn_shp = gp.read_file(\n",
    "\"/home/qiwsir/Documents/data_analysis/chapter04/CHN_adm/CHN_adm2.shp\")\n",
    "#把江苏省的地理政区数据单独取出\n",
    "js_shp = cn_shp[cn_shp.NAME_1==\"Jiangsu\"]\n",
    "js_geo = gp.GeoDataFrame(js_shp)    #转化为Geopandas的数据格式\n",
    "\n",
    "cities = pd.read_csv(\"/home/qiwsir/Documents/data_analysis/chapter03/city_population.csv\")\n",
    "js_data = gp.GeoDataFrame(cities)    #转化为Geopandas的数据格式\n",
    "\n",
    "#将js_geo中的NL_NAME_2列名称修改为name\n",
    "js_geo = js_geo.rename(index = str, columns={\"NL_NAME_2\":\"name\"})\n",
    "\n",
    "#根据name列合并js_geo和js_data的数据\n",
    "jiangsu = js_geo.merge(js_data, on='name', how='left')\n",
    "\n",
    "#绘制人口分布图\n",
    "jiangsu.plot('population', k=4, cmap=plt.cm.Greens, alpha=1,legend = True)\n",
    "plt.gca().xaxis.set_major_locator(plt.NullLocator())    #去掉x轴刻度\n",
    "plt.gca().yaxis.set_major_locator(plt.NullLocator())    #去年y轴刻度\n",
    "for row in jiangsu.itertuples():    #标记各城市名称\n",
    "    plt.text(row.geometry.centroid.x, row.geometry.centroid.y, row.NAME_2)\n"
   ]
  },
  {
   "cell_type": "code",
   "execution_count": null,
   "metadata": {
    "collapsed": true
   },
   "outputs": [],
   "source": []
  }
 ],
 "metadata": {
  "kernelspec": {
   "display_name": "Python 3",
   "language": "python",
   "name": "python3"
  },
  "language_info": {
   "codemirror_mode": {
    "name": "ipython",
    "version": 3
   },
   "file_extension": ".py",
   "mimetype": "text/x-python",
   "name": "python",
   "nbconvert_exporter": "python",
   "pygments_lexer": "ipython3",
   "version": "3.5.2"
  }
 },
 "nbformat": 4,
 "nbformat_minor": 2
}
