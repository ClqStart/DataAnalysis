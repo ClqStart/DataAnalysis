{
 "cells": [
  {
   "cell_type": "code",
   "execution_count": 1,
   "metadata": {},
   "outputs": [
    {
     "name": "stdout",
     "output_type": "stream",
     "text": [
      "Using matplotlib backend: TkAgg\n"
     ]
    },
    {
     "data": {
      "text/html": [
       "<div>\n",
       "<style>\n",
       "    .dataframe thead tr:only-child th {\n",
       "        text-align: right;\n",
       "    }\n",
       "\n",
       "    .dataframe thead th {\n",
       "        text-align: left;\n",
       "    }\n",
       "\n",
       "    .dataframe tbody tr th {\n",
       "        vertical-align: top;\n",
       "    }\n",
       "</style>\n",
       "<table border=\"1\" class=\"dataframe\">\n",
       "  <thead>\n",
       "    <tr style=\"text-align: right;\">\n",
       "      <th></th>\n",
       "      <th>number</th>\n",
       "      <th>percent</th>\n",
       "    </tr>\n",
       "  </thead>\n",
       "  <tbody>\n",
       "    <tr>\n",
       "      <th>0</th>\n",
       "      <td>1</td>\n",
       "      <td>0.311404</td>\n",
       "    </tr>\n",
       "    <tr>\n",
       "      <th>2</th>\n",
       "      <td>2</td>\n",
       "      <td>0.131579</td>\n",
       "    </tr>\n",
       "    <tr>\n",
       "      <th>1</th>\n",
       "      <td>3</td>\n",
       "      <td>0.131579</td>\n",
       "    </tr>\n",
       "    <tr>\n",
       "      <th>4</th>\n",
       "      <td>4</td>\n",
       "      <td>0.100877</td>\n",
       "    </tr>\n",
       "    <tr>\n",
       "      <th>3</th>\n",
       "      <td>5</td>\n",
       "      <td>0.105263</td>\n",
       "    </tr>\n",
       "    <tr>\n",
       "      <th>5</th>\n",
       "      <td>6</td>\n",
       "      <td>0.070175</td>\n",
       "    </tr>\n",
       "    <tr>\n",
       "      <th>8</th>\n",
       "      <td>7</td>\n",
       "      <td>0.048246</td>\n",
       "    </tr>\n",
       "    <tr>\n",
       "      <th>6</th>\n",
       "      <td>8</td>\n",
       "      <td>0.052632</td>\n",
       "    </tr>\n",
       "    <tr>\n",
       "      <th>7</th>\n",
       "      <td>9</td>\n",
       "      <td>0.048246</td>\n",
       "    </tr>\n",
       "  </tbody>\n",
       "</table>\n",
       "</div>"
      ],
      "text/plain": [
       "   number   percent\n",
       "0       1  0.311404\n",
       "2       2  0.131579\n",
       "1       3  0.131579\n",
       "4       4  0.100877\n",
       "3       5  0.105263\n",
       "5       6  0.070175\n",
       "8       7  0.048246\n",
       "6       8  0.052632\n",
       "7       9  0.048246"
      ]
     },
     "execution_count": 1,
     "metadata": {},
     "output_type": "execute_result"
    }
   ],
   "source": [
    "%matplotlib\n",
    "import numpy as np\n",
    "import pandas as pd\n",
    "import matplotlib.pyplot as plt\n",
    "pop_world = pd.read_csv(\"/home/qiwsir/Documents/DataAnalysis/chapter04/population_world.csv\")\n",
    "num = pop_world['number'].map(str).map(lambda x: x[0])    #①\n",
    "num = num.map(int)\n",
    "counts = num.value_counts() / 228     #②\n",
    "r = pd.DataFrame({\"number\": counts.index, 'percent': counts.values})\n",
    "r.sort_values('number')"
   ]
  },
  {
   "cell_type": "code",
   "execution_count": 2,
   "metadata": {},
   "outputs": [
    {
     "data": {
      "text/plain": [
       "([<matplotlib.axis.XTick at 0x7fcbbfc70898>,\n",
       "  <matplotlib.axis.XTick at 0x7fcbbfc96dd8>,\n",
       "  <matplotlib.axis.XTick at 0x7fcbbfc3fd30>,\n",
       "  <matplotlib.axis.XTick at 0x7fcbbfc644a8>,\n",
       "  <matplotlib.axis.XTick at 0x7fcbbfc64fd0>,\n",
       "  <matplotlib.axis.XTick at 0x7fcbbfbf2a20>,\n",
       "  <matplotlib.axis.XTick at 0x7fcbbfbf6470>,\n",
       "  <matplotlib.axis.XTick at 0x7fcbbfbf6e80>,\n",
       "  <matplotlib.axis.XTick at 0x7fcbbfbf98d0>],\n",
       " <a list of 9 Text xticklabel objects>)"
      ]
     },
     "execution_count": 2,
     "metadata": {},
     "output_type": "execute_result"
    }
   ],
   "source": [
    "plt.bar(r['number'], r['percent'])\n",
    "plt.grid(True)\n",
    "plt.xticks(r['number'])\n"
   ]
  },
  {
   "cell_type": "code",
   "execution_count": 4,
   "metadata": {},
   "outputs": [],
   "source": [
    " benford = pd.DataFrame({\n",
    "\"number\": [1,2,3,4,5,6,7,8,9], \n",
    "'percent': [0.301, 0.176, 0.125, 0.097, 0.079, 0.067, 0.058, 0.051, 0.046]\n",
    "})\n",
    "position = benford['number'] - 0.2\n",
    "plt.bar(position, r['percent'], width=0.4, label='population', color='b')\n",
    "plt.bar(position+0.4, benford['percent'], width=0.4, label='benford', color='y')\n",
    "plt.xticks(benford['number'])\n",
    "plt.grid(True)\n"
   ]
  },
  {
   "cell_type": "code",
   "execution_count": 5,
   "metadata": {},
   "outputs": [
    {
     "data": {
      "text/plain": [
       "Date         485\n",
       "Open         485\n",
       "High         485\n",
       "Low          485\n",
       "Close        485\n",
       "Adj Close    485\n",
       "Volume       485\n",
       "dtype: int64"
      ]
     },
     "execution_count": 5,
     "metadata": {},
     "output_type": "execute_result"
    }
   ],
   "source": [
    "aapl = pd.read_csv(\"/home/qiwsir/Documents/DataAnalysis/chapter04/AAPL.csv\")\n",
    "aapl.count()"
   ]
  },
  {
   "cell_type": "code",
   "execution_count": 8,
   "metadata": {},
   "outputs": [],
   "source": [
    "def calc_firstdigit(dataset):\n",
    "    fdigit = [str(value)[:1] for value in dataset]\n",
    "    distr = [fdigit.count(str(i))/float(len(dataset))*100 for i in range(1, 10)]\n",
    "    return distr\n",
    "import math\n",
    "benford = [math.log10(1+1/float(i))*100.0 for i in range(1,10)]\n"
   ]
  },
  {
   "cell_type": "code",
   "execution_count": 9,
   "metadata": {
    "collapsed": true
   },
   "outputs": [],
   "source": [
    "aapl_volume = aapl['Volume']\n",
    "aapl_calc = calc_firstdigit(aapl_volume)     #调用In[5]的函数\n",
    "\n",
    "fig, ax = plt.subplots()\n",
    "ax.plot([1,2,3,4,5,6,7,8,9], aapl_calc, label='AAPL')\n",
    "ax.plot([1,2,3,4,5,6,7,8,9], benford, label='Benford')\n",
    "plt.legend()\n",
    "plt.grid(True)\n"
   ]
  },
  {
   "cell_type": "code",
   "execution_count": 10,
   "metadata": {},
   "outputs": [
    {
     "data": {
      "text/plain": [
       "(0.52842273214202418, 0.14359938153082782)"
      ]
     },
     "execution_count": 10,
     "metadata": {},
     "output_type": "execute_result"
    }
   ],
   "source": [
    "from scipy.stats import pearsonr\n",
    "r_row, p_value = pearsonr(benford, aapl_calc)\n",
    "r_row, p_value\n"
   ]
  },
  {
   "cell_type": "code",
   "execution_count": 11,
   "metadata": {},
   "outputs": [
    {
     "data": {
      "text/plain": [
       "8807"
      ]
     },
     "execution_count": 11,
     "metadata": {},
     "output_type": "execute_result"
    }
   ],
   "source": [
    "aapl_long = pd.read_csv(\"/home/qiwsir/Documents/DataAnalysis/chapter04/AAPL-long.csv\")\n",
    "aapl_long_volume = aapl_long['Volume']\n",
    "aapl_long_volume.count()\n"
   ]
  },
  {
   "cell_type": "code",
   "execution_count": 12,
   "metadata": {},
   "outputs": [
    {
     "data": {
      "text/plain": [
       "(0.98334614975620205, 1.9310143433410221e-06)"
      ]
     },
     "execution_count": 12,
     "metadata": {},
     "output_type": "execute_result"
    }
   ],
   "source": [
    "aapl_long_calc = calc_firstdigit(aapl_long_volume)\n",
    "r2_row, p2_value = pearsonr(benford, aapl_long_calc)\n",
    "r2_row, p2_value\n"
   ]
  },
  {
   "cell_type": "code",
   "execution_count": 13,
   "metadata": {
    "collapsed": true
   },
   "outputs": [],
   "source": [
    "fig, ax = plt.subplots()\n",
    "ax.plot([1,2,3,4,5,6,7,8,9], aapl_long_calc, label='AAPL')\n",
    "ax.plot([1,2,3,4,5,6,7,8,9], benford, label='Benford')\n",
    "plt.legend()\n",
    "plt.grid(True)\n"
   ]
  },
  {
   "cell_type": "code",
   "execution_count": null,
   "metadata": {
    "collapsed": true
   },
   "outputs": [],
   "source": []
  }
 ],
 "metadata": {
  "kernelspec": {
   "display_name": "Python 3",
   "language": "python",
   "name": "python3"
  },
  "language_info": {
   "codemirror_mode": {
    "name": "ipython",
    "version": 3
   },
   "file_extension": ".py",
   "mimetype": "text/x-python",
   "name": "python",
   "nbconvert_exporter": "python",
   "pygments_lexer": "ipython3",
   "version": "3.5.2"
  }
 },
 "nbformat": 4,
 "nbformat_minor": 2
}
