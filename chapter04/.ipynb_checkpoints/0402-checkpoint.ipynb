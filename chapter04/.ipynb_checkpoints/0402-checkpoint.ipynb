{
 "cells": [
  {
   "cell_type": "code",
   "execution_count": 2,
   "metadata": {},
   "outputs": [
    {
     "name": "stdout",
     "output_type": "stream",
     "text": [
      "Using matplotlib backend: TkAgg\n"
     ]
    },
    {
     "data": {
      "text/html": [
       "<div>\n",
       "<style>\n",
       "    .dataframe thead tr:only-child th {\n",
       "        text-align: right;\n",
       "    }\n",
       "\n",
       "    .dataframe thead th {\n",
       "        text-align: left;\n",
       "    }\n",
       "\n",
       "    .dataframe tbody tr th {\n",
       "        vertical-align: top;\n",
       "    }\n",
       "</style>\n",
       "<table border=\"1\" class=\"dataframe\">\n",
       "  <thead>\n",
       "    <tr style=\"text-align: right;\">\n",
       "      <th></th>\n",
       "      <th>creationTime</th>\n",
       "      <th>productColor</th>\n",
       "      <th>productSize</th>\n",
       "    </tr>\n",
       "  </thead>\n",
       "  <tbody>\n",
       "    <tr>\n",
       "      <th>0</th>\n",
       "      <td>2016-06-08 17:17:00</td>\n",
       "      <td>22咖啡色</td>\n",
       "      <td>75C</td>\n",
       "    </tr>\n",
       "    <tr>\n",
       "      <th>1</th>\n",
       "      <td>2017-04-07 19:34:25</td>\n",
       "      <td>22咖啡色</td>\n",
       "      <td>80B</td>\n",
       "    </tr>\n",
       "    <tr>\n",
       "      <th>2</th>\n",
       "      <td>2016-06-18 19:44:56</td>\n",
       "      <td>02粉色</td>\n",
       "      <td>80C</td>\n",
       "    </tr>\n",
       "    <tr>\n",
       "      <th>3</th>\n",
       "      <td>2017-08-03 20:39:18</td>\n",
       "      <td>22咖啡色</td>\n",
       "      <td>80B</td>\n",
       "    </tr>\n",
       "    <tr>\n",
       "      <th>4</th>\n",
       "      <td>2016-07-06 14:02:08</td>\n",
       "      <td>22咖啡色</td>\n",
       "      <td>75B</td>\n",
       "    </tr>\n",
       "  </tbody>\n",
       "</table>\n",
       "</div>"
      ],
      "text/plain": [
       "          creationTime productColor productSize\n",
       "0  2016-06-08 17:17:00        22咖啡色         75C\n",
       "1  2017-04-07 19:34:25        22咖啡色         80B\n",
       "2  2016-06-18 19:44:56         02粉色         80C\n",
       "3  2017-08-03 20:39:18        22咖啡色         80B\n",
       "4  2016-07-06 14:02:08        22咖啡色         75B"
      ]
     },
     "execution_count": 2,
     "metadata": {},
     "output_type": "execute_result"
    }
   ],
   "source": [
    "% matplotlib\n",
    "import pandas as pd\n",
    "import matplotlib.pyplot as plt\n",
    "bras = pd.read_csv(\"/home/qiwsir/Documents/DataAnalysis/chapter04/bra.csv\")\n",
    "bras.head()"
   ]
  },
  {
   "cell_type": "code",
   "execution_count": 3,
   "metadata": {},
   "outputs": [
    {
     "data": {
      "text/plain": [
       "array(['22咖啡色', '02粉色', '071蓝色', '071黑色', '071肤色', '0993无痕肤色', '0993无痕黑色',\n",
       "       '071红色', '0993无痕酒红色', 'h03无痕蓝灰', '蓝灰色', '酒红色', '内裤酒红色', '内裤蓝灰色',\n",
       "       nan, '肤色', '藕荷色', '藕荷色(套装)', '玫瑰色', '深蓝色', '烟灰紫', '天蓝色', '黑色', '红色',\n",
       "       '香妃红', '杏肤色', '诱惑黑', '土豪金', '大红', '嫣紫', '皇家蓝', '粉晶色', '柔肤色', '蓝灰',\n",
       "       '大红色', '紫色无钢圈厚杯', '肤色无钢圈厚杯', '黑色无钢圈厚杯', '紫色套装', '爱心大红色', '肤色套装',\n",
       "       '爱心肤色', '爱心黑色', '紫色 单件', '紫色 套装', '肤色 单件', '黑色 单价', '肤色 套装',\n",
       "       '黑色 套装', '浅紫色', '内裤黑色', '内裤肤色', '浅蓝', '浅黄', '宝蓝色', '酒红', '灰色',\n",
       "       '浅粉色', '醇黑', '红条纹', '蓝色', '蓝条纹', 'PNK', 'LAV', 'BLK', 'GRN',\n",
       "       '浅紫色  ', '肤色    ', '浅紫色 ', '肤色 ', '枚红色 ', '粉色', '蓝色  ', '西瓜红',\n",
       "       '银灰色', '天蓝色  ', '8626黑色', '红色 ', '国色天香 红色【厚】', '磁石款  黑色【薄】',\n",
       "       '磁石款  肤色【薄】', '磁石款 肤色【薄】', '美背款 粉色【厚】', '磁石款  粉色【厚】', '经典款 粉色【薄】',\n",
       "       '磁石款 黑色【薄】', '磁石款 肤色【厚】', '国色天香 黑色【厚】', '磁石款  红色【厚】', '磁石款 粉色【薄】',\n",
       "       '天衣无缝 黑色【AB厚,C薄】', '美背款 黑色【厚】', '磁石款  黑色【厚】', '国色天香 深紫【厚】',\n",
       "       '经典款 粉色【厚】', '经典款 肤色【厚】', '磁石款  蓝色【厚】', '经典款 黑色【厚】', '经典款 黑色【薄】',\n",
       "       '国色天香 粉色【厚】', '天衣无缝 粉色【AB厚,C薄】', '经典款 肤色【薄】', '天衣无缝 肤色【AB厚,C薄】',\n",
       "       '粉红色', '碧绿色', '嫩黄色', '紫兰', '粉色 单件', '粉色 套装', '蓝色 套装', '大红色 套装',\n",
       "       '大红色 单件', '黑色 单件', '蓝色 单件', '浅紫', '紫色套装（其他颜色备注）', '粉色套装（含内裤）', '虾粉'], dtype=object)"
      ]
     },
     "execution_count": 3,
     "metadata": {},
     "output_type": "execute_result"
    }
   ],
   "source": [
    "bras['productColor'].unique()"
   ]
  },
  {
   "cell_type": "code",
   "execution_count": 4,
   "metadata": {},
   "outputs": [
    {
     "data": {
      "text/html": [
       "<div>\n",
       "<style>\n",
       "    .dataframe thead tr:only-child th {\n",
       "        text-align: right;\n",
       "    }\n",
       "\n",
       "    .dataframe thead th {\n",
       "        text-align: left;\n",
       "    }\n",
       "\n",
       "    .dataframe tbody tr th {\n",
       "        vertical-align: top;\n",
       "    }\n",
       "</style>\n",
       "<table border=\"1\" class=\"dataframe\">\n",
       "  <thead>\n",
       "    <tr style=\"text-align: right;\">\n",
       "      <th></th>\n",
       "      <th>color</th>\n",
       "      <th>productColor</th>\n",
       "    </tr>\n",
       "  </thead>\n",
       "  <tbody>\n",
       "    <tr>\n",
       "      <th>0</th>\n",
       "      <td>棕色</td>\n",
       "      <td>22咖啡色</td>\n",
       "    </tr>\n",
       "    <tr>\n",
       "      <th>1</th>\n",
       "      <td>粉色</td>\n",
       "      <td>02粉色</td>\n",
       "    </tr>\n",
       "    <tr>\n",
       "      <th>2</th>\n",
       "      <td>蓝色</td>\n",
       "      <td>071蓝色</td>\n",
       "    </tr>\n",
       "    <tr>\n",
       "      <th>3</th>\n",
       "      <td>黑色</td>\n",
       "      <td>071黑色</td>\n",
       "    </tr>\n",
       "    <tr>\n",
       "      <th>4</th>\n",
       "      <td>肤色</td>\n",
       "      <td>071肤色</td>\n",
       "    </tr>\n",
       "  </tbody>\n",
       "</table>\n",
       "</div>"
      ],
      "text/plain": [
       "  color productColor\n",
       "0    棕色        22咖啡色\n",
       "1    粉色         02粉色\n",
       "2    蓝色        071蓝色\n",
       "3    黑色        071黑色\n",
       "4    肤色        071肤色"
      ]
     },
     "execution_count": 4,
     "metadata": {},
     "output_type": "execute_result"
    }
   ],
   "source": [
    "color_map = pd.read_csv(\"/home/qiwsir/Documents/DataAnalysis/chapter04/colors.csv\")\n",
    "colors = pd.DataFrame({'productColor':color_map.values[0:,1], 'color':color_map.values[0:,2]})\n",
    "colors.head()"
   ]
  },
  {
   "cell_type": "code",
   "execution_count": 5,
   "metadata": {},
   "outputs": [
    {
     "data": {
      "text/html": [
       "<div>\n",
       "<style>\n",
       "    .dataframe thead tr:only-child th {\n",
       "        text-align: right;\n",
       "    }\n",
       "\n",
       "    .dataframe thead th {\n",
       "        text-align: left;\n",
       "    }\n",
       "\n",
       "    .dataframe tbody tr th {\n",
       "        vertical-align: top;\n",
       "    }\n",
       "</style>\n",
       "<table border=\"1\" class=\"dataframe\">\n",
       "  <thead>\n",
       "    <tr style=\"text-align: right;\">\n",
       "      <th></th>\n",
       "      <th>creationTime</th>\n",
       "      <th>productColor</th>\n",
       "      <th>productSize</th>\n",
       "      <th>color</th>\n",
       "    </tr>\n",
       "  </thead>\n",
       "  <tbody>\n",
       "    <tr>\n",
       "      <th>0</th>\n",
       "      <td>2016-06-08 17:17:00</td>\n",
       "      <td>22咖啡色</td>\n",
       "      <td>75C</td>\n",
       "      <td>棕色</td>\n",
       "    </tr>\n",
       "    <tr>\n",
       "      <th>1</th>\n",
       "      <td>2017-04-07 19:34:25</td>\n",
       "      <td>22咖啡色</td>\n",
       "      <td>80B</td>\n",
       "      <td>棕色</td>\n",
       "    </tr>\n",
       "    <tr>\n",
       "      <th>2</th>\n",
       "      <td>2016-06-18 19:44:56</td>\n",
       "      <td>02粉色</td>\n",
       "      <td>80C</td>\n",
       "      <td>粉色</td>\n",
       "    </tr>\n",
       "    <tr>\n",
       "      <th>3</th>\n",
       "      <td>2017-08-03 20:39:18</td>\n",
       "      <td>22咖啡色</td>\n",
       "      <td>80B</td>\n",
       "      <td>棕色</td>\n",
       "    </tr>\n",
       "    <tr>\n",
       "      <th>4</th>\n",
       "      <td>2016-07-06 14:02:08</td>\n",
       "      <td>22咖啡色</td>\n",
       "      <td>75B</td>\n",
       "      <td>棕色</td>\n",
       "    </tr>\n",
       "  </tbody>\n",
       "</table>\n",
       "</div>"
      ],
      "text/plain": [
       "          creationTime productColor productSize color\n",
       "0  2016-06-08 17:17:00        22咖啡色         75C    棕色\n",
       "1  2017-04-07 19:34:25        22咖啡色         80B    棕色\n",
       "2  2016-06-18 19:44:56         02粉色         80C    粉色\n",
       "3  2017-08-03 20:39:18        22咖啡色         80B    棕色\n",
       "4  2016-07-06 14:02:08        22咖啡色         75B    棕色"
      ]
     },
     "execution_count": 5,
     "metadata": {},
     "output_type": "execute_result"
    }
   ],
   "source": [
    " cbras = pd.merge(bras, colors, on=\"productColor\", how=\"left\")\n",
    "cbras.head()\n"
   ]
  },
  {
   "cell_type": "code",
   "execution_count": 6,
   "metadata": {},
   "outputs": [
    {
     "data": {
      "text/plain": [
       "([<matplotlib.axis.XTick at 0x7ff1721dc1d0>,\n",
       "  <matplotlib.axis.XTick at 0x7ff17279dfd0>,\n",
       "  <matplotlib.axis.XTick at 0x7ff1721e42b0>,\n",
       "  <matplotlib.axis.XTick at 0x7ff1721d1fd0>,\n",
       "  <matplotlib.axis.XTick at 0x7ff17215c9e8>,\n",
       "  <matplotlib.axis.XTick at 0x7ff17215f400>,\n",
       "  <matplotlib.axis.XTick at 0x7ff17215fdd8>,\n",
       "  <matplotlib.axis.XTick at 0x7ff1721667f0>,\n",
       "  <matplotlib.axis.XTick at 0x7ff17216a208>,\n",
       "  <matplotlib.axis.XTick at 0x7ff17216abe0>],\n",
       " <a list of 10 Text xticklabel objects>)"
      ]
     },
     "execution_count": 6,
     "metadata": {},
     "output_type": "execute_result"
    }
   ],
   "source": [
    "color_count = cbras.groupby('color').count()    #①\n",
    "datas = color_count['productColor']\n",
    "labels = datas.index\n",
    "position = range(len(datas.index))\n",
    "\n",
    "from matplotlib.font_manager import *     #②\n",
    "myfont = FontProperties(fname='/usr/local/lib/python3.5/dist-packages/matplotlib/mpl-data/fonts/ttf/MSYH.TTC')\n",
    "matplotlib.rcParams['axes.unicode_minus']=False\n",
    "\n",
    "plt.bar(left=position, height=datas.values, width=0.6, tick_label=labels)\n",
    "plt.xticks( position, labels, fontproperties=myfont)\n"
   ]
  },
  {
   "cell_type": "code",
   "execution_count": 7,
   "metadata": {},
   "outputs": [
    {
     "data": {
      "text/plain": [
       "array(['75C', '80B', '80C', '75B', '70C', '85B', '70B', '85C', '75C/34C',\n",
       "       '80B/36B', '85C/38C', '85A/38A', '85B/38B', '80A/36A', '70A/32A',\n",
       "       '80C/36C', '75B/34B', '75A/34A', '70B/32B', '70C/32C', 'B80', 'B75',\n",
       "       'C80', '170/82/XL', 'C75', '160/70/M', 'B70', '165/76/L', 'C70',\n",
       "       nan, '90C/40C', '90B/40B', '85D/38D', '85B+(内裤)套装', '85E/38E',\n",
       "       '80D/36D', '90D/40D', '80E/36E', '75E/34E', '90E/40E', '75D/34D',\n",
       "       '95C', '95E', '85E+(内裤)套装', '95D', '75B+(内裤)套装', '75B=34B',\n",
       "       '80B=36B', '80C=36C', '90D=40D', '85B=38B', '80A=36A', '85C=38C',\n",
       "       '90B=40B', '75A=34A', '90C=40C', '85A=38A', '75C=34C', '85/38C',\n",
       "       '75B/34', '85B/38', '80B/36', '70B/32', 'A75', 'A80', 'A70', '75A',\n",
       "       '80A', '70A', '85A', '70A=32A', '70B=32B', 'A85', 'C85', 'B85',\n",
       "       '90C', '40/90A=XL码', '34/75D=L码', '32/70B=S码', '36/80B=L码',\n",
       "       '38/85A=L码', '38/85C=XL码', '36/80C=L码', '38/85B=XL码', '38/85D=XL码',\n",
       "       '34/75B=M码', '34/75C=M码', '34/75A=S码', '40/90C=XL码', '36/80A=M码',\n",
       "       '75B=34B ', '34/75AB中厚2CM', '75B=34AB', '80B=36AB', '75B  ',\n",
       "       '38/85AB中厚2CM', '34/75C薄款0.8CM', '80B ', '85B=38AB  ', '85B=38AB',\n",
       "       '70B=32AB', '80A=36A厚杯', '70A=32A厚杯', '75A=34A厚杯',\n",
       "       '75B=34B（粉色预发货17号）', '75B=34B粉色预计4天发', '75B=34B（粉色预发货20号）',\n",
       "       '75B=34B（粉色预发货26号）', '34B/75B', '34/75B', '40C/90C', '32B/70B',\n",
       "       '34A/75A', '36C/80C', '34C/75C', '36B/80B', '34B=75B', '36A/80A',\n",
       "       '32A/70A', '38B/85B', '38A/85A'], dtype=object)"
      ]
     },
     "execution_count": 7,
     "metadata": {},
     "output_type": "execute_result"
    }
   ],
   "source": [
    "bras2 = bras['productSize'].str.upper()\n",
    "bras2.unique()\n"
   ]
  },
  {
   "cell_type": "code",
   "execution_count": 8,
   "metadata": {},
   "outputs": [
    {
     "data": {
      "text/plain": [
       "[None]"
      ]
     },
     "execution_count": 8,
     "metadata": {},
     "output_type": "execute_result"
    }
   ],
   "source": [
    "cup = bras2.str.findall(\"[a-zA-Z]+\").str[0]    #用正则表达式进行初步清洗\n",
    "cup2 = cup.str.replace('M', 'B')    #将其他型号归类为A-E\n",
    "cup3 = cup2.str.replace('L', 'C')\n",
    "cup4 = cup3.str.replace('XC', 'D')\n",
    "cup5 = cup4.str.replace('AB', 'B')\n",
    "bras['cup'] = cup5\n",
    "\n",
    "cup_count = bras.groupby('cup').count()    #分组统计数量\n",
    "\n",
    "labels = ['A', 'B', 'C', 'D', 'E']\n",
    "fig, ax = plt.subplots()\n",
    "explode = (0, 0.1, 0, 0, 0)\n",
    "ax.pie(cup_count['productColor'], explode=explode, labels=labels, \n",
    "       autopct='%1.1f%%', radius=1.2, startangle=0)    #绘制饼图\n",
    "ax.set(aspect='equal')\n"
   ]
  },
  {
   "cell_type": "code",
   "execution_count": null,
   "metadata": {
    "collapsed": true
   },
   "outputs": [],
   "source": []
  }
 ],
 "metadata": {
  "kernelspec": {
   "display_name": "Python 3",
   "language": "python",
   "name": "python3"
  },
  "language_info": {
   "codemirror_mode": {
    "name": "ipython",
    "version": 3
   },
   "file_extension": ".py",
   "mimetype": "text/x-python",
   "name": "python",
   "nbconvert_exporter": "python",
   "pygments_lexer": "ipython3",
   "version": "3.5.2"
  }
 },
 "nbformat": 4,
 "nbformat_minor": 2
}
